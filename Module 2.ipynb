{
 "cells": [
  {
   "cell_type": "code",
   "execution_count": null,
   "id": "503536c0",
   "metadata": {},
   "outputs": [],
   "source": [
    "IT \n",
    "# Information Technology"
   ]
  },
  {
   "cell_type": "code",
   "execution_count": null,
   "id": "1a26011d",
   "metadata": {},
   "outputs": [],
   "source": [
    "data\n",
    "information"
   ]
  },
  {
   "cell_type": "code",
   "execution_count": null,
   "id": "c52775e3",
   "metadata": {},
   "outputs": [],
   "source": [
    "snehal maurya\n",
    "AB+\n",
    "19\n",
    "Bhagvan Mahavir\n",
    "BCA\n",
    "2345678\n",
    "123456789\n",
    "301 tops technologies\n",
    "National Player\n",
    "\n",
    "\n",
    "aisa aisa ...\n",
    "kjasnd;la\n",
    "sdfknashjdgka"
   ]
  },
  {
   "cell_type": "code",
   "execution_count": null,
   "id": "3927aeb1",
   "metadata": {},
   "outputs": [],
   "source": [
    "english                   python\n",
    "alphabets                 variable, datatypes, operators\n",
    "words/sentence            functions, modules, packegs\n",
    "grammer                   oop, exceptions, file"
   ]
  },
  {
   "cell_type": "code",
   "execution_count": null,
   "id": "ce901fc6",
   "metadata": {},
   "outputs": [],
   "source": [
    "# programming language\n",
    "php, R, c, java, c++, JS, c#"
   ]
  },
  {
   "cell_type": "code",
   "execution_count": null,
   "id": "f86038da",
   "metadata": {},
   "outputs": [],
   "source": [
    "menil\n",
    "Menil\n",
    "meniL\n",
    "Menil"
   ]
  },
  {
   "cell_type": "code",
   "execution_count": null,
   "id": "52378575",
   "metadata": {},
   "outputs": [],
   "source": [
    "#python features\n",
    "1. best programming language in the world\n",
    "2. the Easiest programming language in the world\n",
    "3. case sensitive\n",
    "4. open source\n",
    "5. portable"
   ]
  },
  {
   "cell_type": "code",
   "execution_count": null,
   "id": "e082d434",
   "metadata": {},
   "outputs": [],
   "source": [
    "uppercase \n",
    "lowercase"
   ]
  },
  {
   "cell_type": "code",
   "execution_count": null,
   "id": "99768108",
   "metadata": {},
   "outputs": [],
   "source": [
    "guido van rossum\n",
    "1991 1995"
   ]
  },
  {
   "cell_type": "code",
   "execution_count": null,
   "id": "d7d38d63",
   "metadata": {},
   "outputs": [],
   "source": [
    "linux\n",
    "windows , macOS\n",
    "android, ios, linux\n",
    "solaris"
   ]
  },
  {
   "cell_type": "code",
   "execution_count": null,
   "id": "8136af9a",
   "metadata": {},
   "outputs": [],
   "source": [
    "# Datatypes of Python\n",
    "22 - (int) integers\n",
    "5.5 - float\n",
    "\n",
    "# string (str)\n"
   ]
  },
  {
   "cell_type": "code",
   "execution_count": null,
   "id": "ebd0b623",
   "metadata": {},
   "outputs": [],
   "source": [
    "-92"
   ]
  },
  {
   "cell_type": "code",
   "execution_count": null,
   "id": "2e21e5b0",
   "metadata": {},
   "outputs": [],
   "source": [
    "302"
   ]
  },
  {
   "cell_type": "code",
   "execution_count": null,
   "id": "bf5a0697",
   "metadata": {},
   "outputs": [],
   "source": [
    "89.9\n",
    "12.0\n",
    "12\n",
    "67.8\n",
    "909\n",
    "999"
   ]
  },
  {
   "cell_type": "code",
   "execution_count": null,
   "id": "a329cfea",
   "metadata": {},
   "outputs": [],
   "source": [
    "'kite'\n",
    "\"gigi hadid\"\n",
    "\n",
    "'this is python programming language.'\n",
    "\n",
    "'301, jeevandeep complex, ring road, surat'\n",
    "\n",
    "\"\"\"Python is a high-level, general-purpose programming language.\n",
    "Its design philosophy emphasizes code readability with the use\n",
    "of significant indentation.\n",
    "Python is dynamically typed and garbage-collected.\n",
    "It supports multiple programming paradigms,\n",
    "including structured, object-oriented.\"\"\""
   ]
  },
  {
   "cell_type": "code",
   "execution_count": null,
   "id": "d6ce3c0f",
   "metadata": {},
   "outputs": [],
   "source": [
    "Multiline string : triple single/double quotes"
   ]
  },
  {
   "cell_type": "code",
   "execution_count": null,
   "id": "c6239c15",
   "metadata": {},
   "outputs": [],
   "source": [
    "! exclaimation sign\n",
    "@ at the\n",
    "#\n",
    "$\n",
    "% modulo, modulous\n",
    "^ cap\n",
    "& and\n",
    "*  asterisk\n",
    "() [] {}\n",
    "> great\n",
    "< less\n",
    ": colon\n",
    "; semicolon\n",
    ".\n",
    "-\n",
    "_\n",
    "| pipe\n",
    "/ forward slash\n",
    "\\ backward slash\n",
    "~ tilde\n",
    "` backtick ,acute quote"
   ]
  },
  {
   "cell_type": "code",
   "execution_count": null,
   "id": "0eb5a197",
   "metadata": {},
   "outputs": [],
   "source": [
    "snehal : c, c ++, sql, html, css, \n",
    "siddhesh : c, c++, sql"
   ]
  },
  {
   "cell_type": "code",
   "execution_count": null,
   "id": "b1510ef3",
   "metadata": {},
   "outputs": [],
   "source": [
    "#Datatypes \n",
    "34 - int\n",
    "45.6 - float\n",
    "'kendall jenner' - str\n"
   ]
  },
  {
   "cell_type": "code",
   "execution_count": null,
   "id": "21f89a2d",
   "metadata": {},
   "outputs": [],
   "source": [
    "12.23\n",
    "234.4\n",
    "45.6\n",
    "56.7"
   ]
  },
  {
   "cell_type": "code",
   "execution_count": null,
   "id": "e1fe649d",
   "metadata": {},
   "outputs": [],
   "source": [
    "'this is ritesh ambani.'\n",
    "\n",
    "\"\"\"this is snehal maurya..\n",
    "ganapati bhagwan.\"\"\"\n",
    "\n",
    "'lion'\n",
    "\n",
    "'23.56'"
   ]
  },
  {
   "cell_type": "code",
   "execution_count": null,
   "id": "acc9cc78",
   "metadata": {},
   "outputs": [],
   "source": [
    "'56.895263'\n",
    "'23'"
   ]
  },
  {
   "cell_type": "code",
   "execution_count": null,
   "id": "fe7a4440",
   "metadata": {},
   "outputs": [],
   "source": [
    "# boolean (bool)\n",
    "True\n",
    "False"
   ]
  },
  {
   "cell_type": "code",
   "execution_count": null,
   "id": "dce743b4",
   "metadata": {},
   "outputs": [],
   "source": [
    "'true'\n",
    "True\n",
    "False"
   ]
  },
  {
   "cell_type": "code",
   "execution_count": null,
   "id": "6d2ce147",
   "metadata": {},
   "outputs": [],
   "source": [
    "# collection datatypes\n",
    "(23,345,546) : tuple\n",
    "[3,34,54,5] : list\n",
    "{23,34,45,7,9} : set\n",
    "{12:34,'a':4, 90:9} : dict (dictionary)"
   ]
  },
  {
   "cell_type": "code",
   "execution_count": null,
   "id": "acfdce32",
   "metadata": {},
   "outputs": [],
   "source": [
    "'water'"
   ]
  },
  {
   "cell_type": "code",
   "execution_count": null,
   "id": "2f50e8bd",
   "metadata": {},
   "outputs": [],
   "source": []
  },
  {
   "cell_type": "code",
   "execution_count": null,
   "id": "0b31ef9a",
   "metadata": {},
   "outputs": [],
   "source": []
  },
  {
   "cell_type": "code",
   "execution_count": null,
   "id": "94267537",
   "metadata": {},
   "outputs": [],
   "source": [
    "integer, float, string, dictionary, boolean, tuple, set, list"
   ]
  },
  {
   "cell_type": "code",
   "execution_count": null,
   "id": "83ba6d9d",
   "metadata": {},
   "outputs": [],
   "source": []
  },
  {
   "cell_type": "code",
   "execution_count": null,
   "id": "a79705d7",
   "metadata": {},
   "outputs": [],
   "source": []
  },
  {
   "cell_type": "code",
   "execution_count": null,
   "id": "00e2e8d9",
   "metadata": {},
   "outputs": [],
   "source": []
  },
  {
   "cell_type": "code",
   "execution_count": null,
   "id": "530cfd5f",
   "metadata": {},
   "outputs": [],
   "source": [
    "# {23:4,67:89}\n",
    "# (5,6,7,8)\n",
    "# {4,5,6,7}\n",
    "# [2,3,3,6]"
   ]
  },
  {
   "cell_type": "code",
   "execution_count": null,
   "id": "8bd31dbf",
   "metadata": {},
   "outputs": [],
   "source": [
    "True\n",
    "False"
   ]
  },
  {
   "cell_type": "code",
   "execution_count": null,
   "id": "62d1935f",
   "metadata": {},
   "outputs": [],
   "source": [
    "'23.45'"
   ]
  },
  {
   "cell_type": "code",
   "execution_count": null,
   "id": "c4941904",
   "metadata": {},
   "outputs": [],
   "source": [
    "\"-78.90\""
   ]
  },
  {
   "cell_type": "code",
   "execution_count": null,
   "id": "ead88351",
   "metadata": {},
   "outputs": [],
   "source": [
    "# variable, container\n",
    "# datatypes\n",
    "# operators\n"
   ]
  },
  {
   "cell_type": "code",
   "execution_count": null,
   "id": "e0c0abfb",
   "metadata": {},
   "outputs": [],
   "source": [
    "bottle = 'water' "
   ]
  },
  {
   "cell_type": "code",
   "execution_count": null,
   "id": "93122f7c",
   "metadata": {},
   "outputs": [],
   "source": [
    "# Syntax:(format)\n",
    "variable = data/value"
   ]
  },
  {
   "cell_type": "code",
   "execution_count": null,
   "id": "59a06e11",
   "metadata": {},
   "outputs": [],
   "source": []
  },
  {
   "cell_type": "code",
   "execution_count": null,
   "id": "48316ae8",
   "metadata": {},
   "outputs": [],
   "source": [
    "#ye line pe data container mein store ho rha hai\n",
    "#value hai wo variable mein store ho rahi hai\n",
    "# variable define ho rha hai\n",
    "waah = 90"
   ]
  },
  {
   "cell_type": "code",
   "execution_count": null,
   "id": "cf610dbb",
   "metadata": {},
   "outputs": [],
   "source": [
    "a = 'k'"
   ]
  },
  {
   "cell_type": "code",
   "execution_count": null,
   "id": "a71a9dc6",
   "metadata": {},
   "outputs": [],
   "source": [
    "print(waah)"
   ]
  },
  {
   "cell_type": "code",
   "execution_count": null,
   "id": "522e1148",
   "metadata": {},
   "outputs": [],
   "source": [
    "bag = 'books'\n",
    "print(bag)"
   ]
  },
  {
   "cell_type": "code",
   "execution_count": null,
   "id": "a0547df4",
   "metadata": {},
   "outputs": [],
   "source": [
    "prerna_gupta = 6\n",
    "print(prerna_gupta)"
   ]
  },
  {
   "cell_type": "code",
   "execution_count": null,
   "id": "ac6689bc",
   "metadata": {},
   "outputs": [],
   "source": [
    "# variable name rules / Identifier Rules\n",
    "1. first character can be either _ or alphabets(upper/lower)\n",
    "2. can contain ONLY _ , alphabets , numbers\n",
    "3. YOU CAN NOT USE KEYWORDS\n"
   ]
  },
  {
   "cell_type": "code",
   "execution_count": null,
   "id": "9bc065ca",
   "metadata": {},
   "outputs": [],
   "source": [
    "#keyword (already defined)\n",
    "# GVR\n",
    "For = 90"
   ]
  },
  {
   "cell_type": "code",
   "execution_count": null,
   "id": "86797291",
   "metadata": {},
   "outputs": [],
   "source": [
    "u= 9.7"
   ]
  },
  {
   "cell_type": "code",
   "execution_count": null,
   "id": "157653bf",
   "metadata": {},
   "outputs": [],
   "source": [
    "type(u)"
   ]
  },
  {
   "cell_type": "code",
   "execution_count": null,
   "id": "cdb47afc",
   "metadata": {},
   "outputs": [],
   "source": [
    "billie = 'kuch bhi'\n",
    "print(billie)"
   ]
  },
  {
   "cell_type": "code",
   "execution_count": null,
   "id": "f657f195",
   "metadata": {},
   "outputs": [],
   "source": [
    "a = 10\n",
    "a = 2.0\n",
    "a = 15\n",
    "type(a)"
   ]
  },
  {
   "cell_type": "code",
   "execution_count": null,
   "id": "8e697239",
   "metadata": {},
   "outputs": [],
   "source": [
    "mike = 'tyson'\n",
    "print(mike)\n",
    "mike = 32\n",
    "print(mike)\n",
    "mike = True\n",
    "mike = 8.3\n",
    "print(mike)"
   ]
  },
  {
   "cell_type": "code",
   "execution_count": null,
   "id": "dd25d9fe",
   "metadata": {},
   "outputs": [],
   "source": [
    "var1 = 90\n",
    "print(var1)"
   ]
  },
  {
   "cell_type": "code",
   "execution_count": null,
   "id": "81e3b76b",
   "metadata": {},
   "outputs": [],
   "source": []
  },
  {
   "cell_type": "code",
   "execution_count": null,
   "id": "268d0686",
   "metadata": {},
   "outputs": [],
   "source": [
    "var1 = 90\n",
    "var2 = 90\n",
    "var3 = 90"
   ]
  },
  {
   "cell_type": "code",
   "execution_count": null,
   "id": "5f5b7f6c",
   "metadata": {},
   "outputs": [],
   "source": [
    "var1 = var2 = var3 = 89"
   ]
  },
  {
   "cell_type": "code",
   "execution_count": null,
   "id": "d0e639ae",
   "metadata": {},
   "outputs": [],
   "source": [
    "print(var3)"
   ]
  },
  {
   "cell_type": "code",
   "execution_count": null,
   "id": "4dc5906a",
   "metadata": {},
   "outputs": [],
   "source": [
    "a,b,c = 12, 34, 45"
   ]
  },
  {
   "cell_type": "code",
   "execution_count": null,
   "id": "6df12828",
   "metadata": {},
   "outputs": [],
   "source": [
    "print(c)"
   ]
  },
  {
   "cell_type": "code",
   "execution_count": null,
   "id": "bdf0b4d1",
   "metadata": {},
   "outputs": [],
   "source": [
    "f1, f2, f3 = 23, 34, a"
   ]
  },
  {
   "cell_type": "code",
   "execution_count": null,
   "id": "219eaeff",
   "metadata": {},
   "outputs": [],
   "source": [
    "print(f3)"
   ]
  },
  {
   "cell_type": "code",
   "execution_count": null,
   "id": "93648068",
   "metadata": {},
   "outputs": [],
   "source": [
    "X1 = 10\n",
    "r1 = X1 #r1 = 10\n",
    "print(r1)\n"
   ]
  },
  {
   "cell_type": "code",
   "execution_count": null,
   "id": "e5c703c9",
   "metadata": {},
   "outputs": [],
   "source": [
    "# Types of Operators\n",
    "# Operator : who performs some task\n",
    "# operands : On whom the task is being performed\n",
    "\n",
    "#types of operators\n",
    "# 1. Arithmetic Operator\n",
    "# 2. Assignment Operator \n",
    "# 3. Comparision Operator\n",
    "# 4. Logical Operator\n",
    "# 5. Membership Operator\n",
    "# 6. Identity Operator"
   ]
  },
  {
   "cell_type": "code",
   "execution_count": null,
   "id": "b2205666",
   "metadata": {},
   "outputs": [],
   "source": [
    "# 1. Arithmetic Operator\n",
    "+ #addition operator\n",
    "- #substraction operator\n",
    "* #multiplication \n",
    "/ #division operator\n",
    "// #floor division operator\n",
    "** #power\n",
    "% #modulo , modulous"
   ]
  },
  {
   "cell_type": "code",
   "execution_count": null,
   "id": "1110e3b6",
   "metadata": {},
   "outputs": [],
   "source": [
    "# 12 + 8\n",
    "# 12.0 + 8.0\n",
    "1.2 + 3"
   ]
  },
  {
   "cell_type": "code",
   "execution_count": null,
   "id": "23d0458f",
   "metadata": {},
   "outputs": [],
   "source": [
    "90 - 9\n",
    "8 - 4.5"
   ]
  },
  {
   "cell_type": "code",
   "execution_count": null,
   "id": "f8733c89",
   "metadata": {},
   "outputs": [],
   "source": [
    "12 * 4"
   ]
  },
  {
   "cell_type": "code",
   "execution_count": null,
   "id": "90c0c348",
   "metadata": {},
   "outputs": [],
   "source": [
    "5 * 2.5"
   ]
  },
  {
   "cell_type": "code",
   "execution_count": null,
   "id": "8ea3edd3",
   "metadata": {},
   "outputs": [],
   "source": [
    "1.0 * 0.0"
   ]
  },
  {
   "cell_type": "code",
   "execution_count": null,
   "id": "89d8c3fe",
   "metadata": {},
   "outputs": [],
   "source": [
    "10 / 5 #Hummesha float mein answer dega"
   ]
  },
  {
   "cell_type": "code",
   "execution_count": null,
   "id": "02596c26",
   "metadata": {},
   "outputs": [],
   "source": [
    "10 / 5"
   ]
  },
  {
   "cell_type": "code",
   "execution_count": null,
   "id": "8e1e1dc2",
   "metadata": {},
   "outputs": [],
   "source": [
    "10 / 10"
   ]
  },
  {
   "cell_type": "code",
   "execution_count": null,
   "id": "e5a78ba1",
   "metadata": {},
   "outputs": [],
   "source": [
    "1,2\n",
    "\n",
    "1\n",
    "1"
   ]
  },
  {
   "cell_type": "code",
   "execution_count": null,
   "id": "b817d4f3",
   "metadata": {},
   "outputs": [],
   "source": [
    "10 // 3"
   ]
  },
  {
   "cell_type": "code",
   "execution_count": null,
   "id": "bd6adb7d",
   "metadata": {},
   "outputs": [],
   "source": [
    "10 // 9"
   ]
  },
  {
   "cell_type": "code",
   "execution_count": null,
   "id": "b2d85f69",
   "metadata": {},
   "outputs": [],
   "source": [
    "25 // 5"
   ]
  },
  {
   "cell_type": "code",
   "execution_count": null,
   "id": "4ccc6add",
   "metadata": {},
   "outputs": [],
   "source": [
    "#Syntax:\n",
    "# base ** power\n",
    "5 ** 2"
   ]
  },
  {
   "cell_type": "code",
   "execution_count": null,
   "id": "85d4a8b3",
   "metadata": {},
   "outputs": [],
   "source": [
    "2 ** 3"
   ]
  },
  {
   "cell_type": "code",
   "execution_count": null,
   "id": "76363a27",
   "metadata": {},
   "outputs": [],
   "source": [
    "10 % 6 # returns the remainder"
   ]
  },
  {
   "cell_type": "code",
   "execution_count": null,
   "id": "810c7149",
   "metadata": {},
   "outputs": [],
   "source": [
    "    ___1____\n",
    "  6 |  10\n",
    "      - 6\n",
    "    ----------\n",
    "        4"
   ]
  },
  {
   "cell_type": "code",
   "execution_count": null,
   "id": "a26c4ccd",
   "metadata": {},
   "outputs": [],
   "source": [
    "15 % 9"
   ]
  },
  {
   "cell_type": "code",
   "execution_count": null,
   "id": "f7fbccc8",
   "metadata": {},
   "outputs": [],
   "source": [
    "90 - 34"
   ]
  },
  {
   "cell_type": "code",
   "execution_count": null,
   "id": "55c2ecb4",
   "metadata": {},
   "outputs": [],
   "source": [
    "# 2. Assignment Operators\n",
    "=\n",
    "+=\n",
    "-=\n",
    "*=\n",
    "/=\n",
    "**=\n",
    "//=\n",
    "%="
   ]
  },
  {
   "cell_type": "code",
   "execution_count": null,
   "id": "09d012f5",
   "metadata": {},
   "outputs": [],
   "source": [
    "h1 = 90\n",
    "h1 -= 34 # h1 = 56\n",
    "h1 -= 10 # h1 = 46\n",
    "print(h1)"
   ]
  },
  {
   "cell_type": "code",
   "execution_count": null,
   "id": "4dcce56b",
   "metadata": {},
   "outputs": [],
   "source": [
    "# Interpreter IGNORES comments & white spaces"
   ]
  },
  {
   "cell_type": "code",
   "execution_count": null,
   "id": "99acc733",
   "metadata": {},
   "outputs": [],
   "source": [
    "tyson = 'mike' #lvgbg bkh n/lki h'oh'olhi'lh\n",
    "\n",
    "\n",
    "\n",
    "print(tyson)"
   ]
  },
  {
   "cell_type": "code",
   "execution_count": null,
   "id": "58522a81",
   "metadata": {},
   "outputs": [],
   "source": [
    "eric = 50\n",
    "eric += 10 # eric = eric + 10\n",
    "print(eric)"
   ]
  },
  {
   "cell_type": "code",
   "execution_count": null,
   "id": "a7f200fb",
   "metadata": {},
   "outputs": [],
   "source": [
    "r1 = 56\n",
    "r1 **= 0 #r1 = r1 ** 0\n",
    "print(r1)"
   ]
  },
  {
   "cell_type": "code",
   "execution_count": null,
   "id": "02e77e14",
   "metadata": {},
   "outputs": [],
   "source": [
    "y = 10\n",
    "y %= 10 # y = 0\n",
    "print(y)"
   ]
  },
  {
   "cell_type": "code",
   "execution_count": null,
   "id": "745bd922",
   "metadata": {},
   "outputs": [],
   "source": [
    "ui = 45\n",
    "ui *= 15.0 # ui = 675.0\n",
    "print(ui)"
   ]
  },
  {
   "cell_type": "code",
   "execution_count": null,
   "id": "fce92105",
   "metadata": {},
   "outputs": [],
   "source": [
    "15.0 * 45"
   ]
  },
  {
   "cell_type": "code",
   "execution_count": null,
   "id": "41c18736",
   "metadata": {},
   "outputs": [],
   "source": [
    "tyson = 90 \n",
    "tyson %= 1.0 # tyson = 0.0\n",
    "print(tyson)"
   ]
  },
  {
   "cell_type": "code",
   "execution_count": null,
   "id": "aeb0476b",
   "metadata": {},
   "outputs": [],
   "source": [
    "#3. Comparision Operators\n",
    "== double equals\n",
    "> \n",
    "<\n",
    "<= less than OR equals to\n",
    ">= greater than OR equals to\n",
    "!= nott equals"
   ]
  },
  {
   "cell_type": "code",
   "execution_count": null,
   "id": "dc296a81",
   "metadata": {},
   "outputs": [],
   "source": [
    "operand1 operator operand2"
   ]
  },
  {
   "cell_type": "code",
   "execution_count": null,
   "id": "bef63e96",
   "metadata": {},
   "outputs": [],
   "source": [
    "1 == 1 #returns True if both sides have SAME VALUES, \n",
    "# else it will return False"
   ]
  },
  {
   "cell_type": "code",
   "execution_count": null,
   "id": "db3193e9",
   "metadata": {},
   "outputs": [],
   "source": [
    "# Interpreter IGNORES comments & white spaces\n",
    "\n",
    "\n",
    "\n",
    "\n",
    "# comment: from hashtag to REST OF THE LINE"
   ]
  },
  {
   "cell_type": "code",
   "execution_count": null,
   "id": "e01b281b",
   "metadata": {},
   "outputs": [],
   "source": [
    "True\n",
    "False "
   ]
  },
  {
   "cell_type": "code",
   "execution_count": null,
   "id": "e1b02a58",
   "metadata": {},
   "outputs": [],
   "source": [
    "12 == 12.0"
   ]
  },
  {
   "cell_type": "code",
   "execution_count": null,
   "id": "5dee92d9",
   "metadata": {},
   "outputs": [],
   "source": [
    "12 == 11.99"
   ]
  },
  {
   "cell_type": "code",
   "execution_count": null,
   "id": "a6e3dbc7",
   "metadata": {},
   "outputs": [],
   "source": [
    "12 == 11.999"
   ]
  },
  {
   "cell_type": "code",
   "execution_count": null,
   "id": "a1f81f17",
   "metadata": {},
   "outputs": [],
   "source": [
    "\n",
    "12 == 11.9999999999999999"
   ]
  },
  {
   "cell_type": "code",
   "execution_count": null,
   "id": "7ce79a15",
   "metadata": {},
   "outputs": [],
   "source": [
    "4 > 4 #returns True if LEFT SIDE is bigger than RIGHT SIDE\n",
    "#else returns False"
   ]
  },
  {
   "cell_type": "code",
   "execution_count": null,
   "id": "145cc12d",
   "metadata": {},
   "outputs": [],
   "source": [
    "56 < 56  #returns True if RIGHT SIDE is bigger than LEFT SIDE\n",
    "#else returns False"
   ]
  },
  {
   "cell_type": "code",
   "execution_count": null,
   "id": "e26d6b06",
   "metadata": {},
   "outputs": [],
   "source": [
    "90 <= 90 #returns True if both sides has SAME VALUES or\n",
    "# LEFT SIDE is smaller than right side, else returns False"
   ]
  },
  {
   "cell_type": "code",
   "execution_count": null,
   "id": "d6104abd",
   "metadata": {},
   "outputs": [],
   "source": [
    "7 >= 7.0"
   ]
  },
  {
   "cell_type": "code",
   "execution_count": null,
   "id": "73e58b41",
   "metadata": {},
   "outputs": [],
   "source": [
    "12 != 12 #returns True if both sides has DIFFERENT VALUES,\n",
    "# else returns False"
   ]
  },
  {
   "cell_type": "code",
   "execution_count": null,
   "id": "5325df9b",
   "metadata": {},
   "outputs": [],
   "source": [
    "# 4. Logical Operators\n",
    "and, or, not"
   ]
  },
  {
   "cell_type": "code",
   "execution_count": null,
   "id": "639b9e62",
   "metadata": {},
   "outputs": [],
   "source": [
    "# pen and pencil\n",
    "\n",
    "True and False #==> False\n",
    "False and True #==> False\n",
    "True and True #==> True\n",
    "False and False #==> False"
   ]
  },
  {
   "cell_type": "code",
   "execution_count": null,
   "id": "73bbeffe",
   "metadata": {},
   "outputs": [],
   "source": [
    "# pen or pencil #or = या\n",
    "True or False #==> True\n",
    "False or True #==> True\n",
    "True or True #==> True\n",
    "False or False #==> False"
   ]
  },
  {
   "cell_type": "code",
   "execution_count": null,
   "id": "7b5e7749",
   "metadata": {},
   "outputs": [],
   "source": [
    "# not operand1\n",
    "not False"
   ]
  },
  {
   "cell_type": "code",
   "execution_count": null,
   "id": "9044b8cb",
   "metadata": {},
   "outputs": [],
   "source": [
    "#5. Membership Operators\n",
    "in \n",
    "not in\n",
    "#Syntax:\n",
    "# entity/value in group,Iterable\n",
    "\n",
    "#Iterable Datatypes\n",
    "str, set, tuple, dict, list\n"
   ]
  },
  {
   "cell_type": "code",
   "execution_count": null,
   "id": "ab797554",
   "metadata": {},
   "outputs": [],
   "source": [
    "6 in (34,56,67,7,8)"
   ]
  },
  {
   "cell_type": "code",
   "execution_count": null,
   "id": "8eabdd83",
   "metadata": {},
   "outputs": [],
   "source": [
    "'Scot ' in 'Travis Scott'"
   ]
  },
  {
   "cell_type": "code",
   "execution_count": null,
   "id": "e23549bf",
   "metadata": {},
   "outputs": [],
   "source": [
    "9 in {4,5,6,7,89,9}"
   ]
  },
  {
   "cell_type": "code",
   "execution_count": null,
   "id": "e6eff7d3",
   "metadata": {},
   "outputs": [],
   "source": [
    "# {key : value}\n",
    "0 in {'a':0, 'b':23, 't':45, 19:9990, 0:23}\n",
    "    "
   ]
  },
  {
   "cell_type": "code",
   "execution_count": null,
   "id": "5edb1f27",
   "metadata": {},
   "outputs": [],
   "source": [
    "6 in [4,5,67, 2 * 3.0]"
   ]
  },
  {
   "cell_type": "code",
   "execution_count": null,
   "id": "552f6c16",
   "metadata": {},
   "outputs": [],
   "source": [
    "8 not in (23,345, 16 /2)"
   ]
  },
  {
   "cell_type": "code",
   "execution_count": null,
   "id": "fc23a410",
   "metadata": {},
   "outputs": [],
   "source": [
    "'k' not in 'Kendall Jenner'"
   ]
  },
  {
   "cell_type": "code",
   "execution_count": null,
   "id": "827b3308",
   "metadata": {},
   "outputs": [],
   "source": [
    "# 6. Identity operator\n",
    "# Memory Address\n",
    "is\n",
    "is not"
   ]
  },
  {
   "cell_type": "code",
   "execution_count": null,
   "id": "4707df9b",
   "metadata": {},
   "outputs": [],
   "source": [
    "a = 90\n",
    "b = 90\n",
    "a is b\n",
    "a == b"
   ]
  },
  {
   "cell_type": "code",
   "execution_count": null,
   "id": "de63c7e9",
   "metadata": {},
   "outputs": [],
   "source": [
    "y = 10\n",
    "u = 20\n",
    "y is u"
   ]
  },
  {
   "cell_type": "code",
   "execution_count": null,
   "id": "4571fed6",
   "metadata": {},
   "outputs": [],
   "source": []
  },
  {
   "cell_type": "code",
   "execution_count": null,
   "id": "81ea0453",
   "metadata": {},
   "outputs": [],
   "source": [
    "# is & ==\n",
    "# == returns True when both sides has SAME VALUES\n",
    "# is returns True when both sides has SAME IDs"
   ]
  },
  {
   "cell_type": "code",
   "execution_count": null,
   "id": "1b62c06c",
   "metadata": {},
   "outputs": [],
   "source": [
    "list1 = [3,4,5]\n",
    "list2 = list1[::]\n",
    "\n",
    "print(list2)"
   ]
  },
  {
   "cell_type": "code",
   "execution_count": null,
   "id": "9f2ed328",
   "metadata": {},
   "outputs": [],
   "source": [
    "list1 == list2 #== values check karta hai"
   ]
  },
  {
   "cell_type": "code",
   "execution_count": null,
   "id": "7fb5dae9",
   "metadata": {},
   "outputs": [],
   "source": [
    "list1 is list2 #is ID check karta hai"
   ]
  },
  {
   "cell_type": "code",
   "execution_count": null,
   "id": "ac7bd99d",
   "metadata": {},
   "outputs": [],
   "source": [
    "print(id(list1), id(list2))"
   ]
  },
  {
   "cell_type": "code",
   "execution_count": null,
   "id": "0471b28e",
   "metadata": {},
   "outputs": [],
   "source": [
    "list1 is not list2"
   ]
  },
  {
   "cell_type": "code",
   "execution_count": null,
   "id": "d715ebb2",
   "metadata": {},
   "outputs": [],
   "source": [
    "#Conditional Statements\n",
    "\n",
    "1. if\n",
    "2. if else\n",
    "3. elif\n",
    "4. nested if"
   ]
  },
  {
   "cell_type": "code",
   "execution_count": null,
   "id": "1ac6937f",
   "metadata": {},
   "outputs": [],
   "source": [
    "#Syntax:\n",
    "if condition:\n",
    "    boc, suite, (block of code)\n",
    "    \n",
    "4 white spaces:\n",
    "Indentation\n",
    "    \n",
    "    "
   ]
  },
  {
   "cell_type": "code",
   "execution_count": null,
   "id": "30bf0add",
   "metadata": {},
   "outputs": [],
   "source": [
    "num = 8\n",
    "if num < 10:\n",
    "    print('python')\n",
    "    print('language')\n",
    "    \n",
    "    \n",
    "    \n",
    "    \n",
    "    print('programming')\n",
    "    print('school')\n",
    "    print('best')"
   ]
  },
  {
   "cell_type": "code",
   "execution_count": null,
   "id": "d0f61af0",
   "metadata": {},
   "outputs": [],
   "source": [
    "# block of code mein Indentation Continuous HONA CHAHIYE"
   ]
  },
  {
   "cell_type": "code",
   "execution_count": null,
   "id": "8ccf243e",
   "metadata": {},
   "outputs": [],
   "source": [
    "# Agar condition True hoti hai to boc EK BAAR execute karna hai"
   ]
  },
  {
   "cell_type": "code",
   "execution_count": null,
   "id": "cd5bc767",
   "metadata": {},
   "outputs": [],
   "source": [
    "rasta = 'gila'\n",
    "if rasta == 'gila':\n",
    "    print('baarish hui thi')"
   ]
  },
  {
   "cell_type": "code",
   "execution_count": null,
   "id": "059207f7",
   "metadata": {},
   "outputs": [],
   "source": [
    "# agar variable define nahi kiya hai \n",
    "# AUR USE KAR LIYA to NameError aayega"
   ]
  },
  {
   "cell_type": "code",
   "execution_count": null,
   "id": "5775d668",
   "metadata": {},
   "outputs": [],
   "source": [
    "if 10.99 == 10.999:\n",
    "    print('suffering from success')"
   ]
  },
  {
   "cell_type": "code",
   "execution_count": null,
   "id": "f9929b96",
   "metadata": {},
   "outputs": [],
   "source": [
    "if 10 % 5 == 0:\n",
    "    print('chatur')"
   ]
  },
  {
   "cell_type": "code",
   "execution_count": null,
   "id": "719329d3",
   "metadata": {},
   "outputs": [],
   "source": [
    "dog = wagon = 'equals to'\n",
    "dogg = 'snoop'\n",
    "if dogg == dogg:\n",
    "    print('Wiz Khalifa')\n",
    "else:\n",
    "    print('Lil skies')"
   ]
  },
  {
   "cell_type": "code",
   "execution_count": null,
   "id": "fa745657",
   "metadata": {},
   "outputs": [],
   "source": [
    "joe = goldberg = 'beck'\n",
    "king, queen, joker = 'Ace', 'Pro', 'Junior'\n",
    "\n",
    "if ('k' in king) or (joe is 'goldberg'):\n",
    "    print('succeessss')\n",
    "else:\n",
    "    print('fasle')"
   ]
  },
  {
   "cell_type": "code",
   "execution_count": null,
   "id": "68565421",
   "metadata": {},
   "outputs": [],
   "source": [
    "print(id('beck'), id('goldberg'))"
   ]
  },
  {
   "cell_type": "code",
   "execution_count": null,
   "id": "57be2e10",
   "metadata": {},
   "outputs": [],
   "source": [
    "# Agar condition True ho to IF KA BOC\n",
    "# Agar condition False ho to ELSE KA BOC"
   ]
  },
  {
   "cell_type": "code",
   "execution_count": null,
   "id": "0eaf79ed",
   "metadata": {},
   "outputs": [],
   "source": [
    "y = u = i = o = 90\n",
    "if u in [34,56,6,10,9] or False or False or []:\n",
    "    print('tventitoo')\n",
    "else:\n",
    "    print('mc stan')"
   ]
  },
  {
   "cell_type": "code",
   "execution_count": null,
   "id": "cf5df2db",
   "metadata": {},
   "outputs": [],
   "source": [
    "if 'pppolo':\n",
    "    print('lion')\n",
    "else:\n",
    "    print('arijit')"
   ]
  },
  {
   "cell_type": "code",
   "execution_count": null,
   "id": "a555dc23",
   "metadata": {},
   "outputs": [],
   "source": [
    "Falsy values\n",
    "0, 0.0, '', [], (), {}, set()\n",
    "# {} Empty Dictionary\n",
    "\n",
    "\n",
    "Truish values\n",
    "456789,-5678,0.4567"
   ]
  },
  {
   "cell_type": "code",
   "execution_count": null,
   "id": "082f0334",
   "metadata": {},
   "outputs": [],
   "source": [
    "if [[]]:\n",
    "    print('lllist')\n",
    "else:\n",
    "    print('nirobi')"
   ]
  },
  {
   "cell_type": "code",
   "execution_count": null,
   "id": "61c4f183",
   "metadata": {},
   "outputs": [],
   "source": []
  },
  {
   "cell_type": "code",
   "execution_count": null,
   "id": "4ab0a91b",
   "metadata": {},
   "outputs": [],
   "source": []
  },
  {
   "cell_type": "code",
   "execution_count": null,
   "id": "fab106d4",
   "metadata": {},
   "outputs": [],
   "source": []
  },
  {
   "cell_type": "code",
   "execution_count": null,
   "id": "a70cd7d0",
   "metadata": {},
   "outputs": [],
   "source": []
  },
  {
   "cell_type": "code",
   "execution_count": null,
   "id": "becba84f",
   "metadata": {},
   "outputs": [],
   "source": []
  },
  {
   "cell_type": "code",
   "execution_count": null,
   "id": "b8a8dc0c",
   "metadata": {},
   "outputs": [],
   "source": [
    "y = 90\n",
    "if 'O' in 'yolo':\n",
    "    print('treeeeeee')\n",
    "else:\n",
    "    print('zameeeeeen')"
   ]
  },
  {
   "cell_type": "code",
   "execution_count": null,
   "id": "feebcc48",
   "metadata": {},
   "outputs": [],
   "source": [
    "u1 = 89 + 1\n",
    "if u1 in [34, 56, 90]:\n",
    "    print('gigi')\n",
    "else:\n",
    "    print('zayn')"
   ]
  },
  {
   "cell_type": "code",
   "execution_count": null,
   "id": "d27f625d",
   "metadata": {},
   "outputs": [],
   "source": [
    "j = 'o'\n",
    "jj = 'polar bear'\n",
    "if j not in jj:\n",
    "    print('hello')\n",
    "else:\n",
    "    print('helllo')"
   ]
  },
  {
   "cell_type": "code",
   "execution_count": null,
   "id": "2b1803ef",
   "metadata": {},
   "outputs": [],
   "source": [
    "_if, if_ = 'if', 'if'\n",
    "if 'if' is not 'if':\n",
    "    print('if')\n",
    "else:\n",
    "    print('ifffffffff')\n",
    "    "
   ]
  },
  {
   "cell_type": "code",
   "execution_count": null,
   "id": "b6ba84a0",
   "metadata": {},
   "outputs": [],
   "source": [
    "print(id('if'), id('if'), id('if'))"
   ]
  },
  {
   "cell_type": "code",
   "execution_count": null,
   "id": "3eb274dc",
   "metadata": {},
   "outputs": [],
   "source": [
    "3 ** 6"
   ]
  },
  {
   "cell_type": "code",
   "execution_count": null,
   "id": "bb776a61",
   "metadata": {},
   "outputs": [],
   "source": [
    "3 ** 3 + 3"
   ]
  },
  {
   "cell_type": "code",
   "execution_count": null,
   "id": "fbadb578",
   "metadata": {},
   "outputs": [],
   "source": [
    "elses = 40.0\n",
    "elsa = 40\n",
    "elsu = False\n",
    "if elses % elsa == elsu:\n",
    "    print('hmmmmmmmm hmmmmmm')\n",
    "else:\n",
    "    print('ugh ugh')"
   ]
  },
  {
   "cell_type": "code",
   "execution_count": null,
   "id": "9434f4c2",
   "metadata": {},
   "outputs": [],
   "source": [
    "y = 90\n",
    "y = 990\n",
    "y = 9990\n",
    "y = 'y'\n",
    "if y != 'y' and y is y == 90 and y in 'why':\n",
    "    print('may')\n",
    "else:\n",
    "    print('vroom... vroooooom.... vroom')"
   ]
  },
  {
   "cell_type": "code",
   "execution_count": null,
   "id": "8ff96a27",
   "metadata": {},
   "outputs": [],
   "source": []
  },
  {
   "cell_type": "code",
   "execution_count": null,
   "id": "0ded7d70",
   "metadata": {},
   "outputs": [],
   "source": [
    "if 1 == True:\n",
    "    print('snehal')\n",
    "else:\n",
    "    print('menil')"
   ]
  },
  {
   "cell_type": "code",
   "execution_count": null,
   "id": "7bfa0d29",
   "metadata": {},
   "outputs": [],
   "source": [
    "if [] :\n",
    "    print('lion')\n",
    "else:\n",
    "    print('tiger')"
   ]
  },
  {
   "cell_type": "code",
   "execution_count": null,
   "id": "57f95fea",
   "metadata": {},
   "outputs": [],
   "source": [
    "[] ~ False"
   ]
  },
  {
   "cell_type": "code",
   "execution_count": null,
   "id": "6658fa22",
   "metadata": {},
   "outputs": [],
   "source": [
    "10 = 10.0"
   ]
  },
  {
   "cell_type": "code",
   "execution_count": null,
   "id": "ff560695",
   "metadata": {},
   "outputs": [],
   "source": [
    "0 = 0.0 = False, 1 = 1.0 = True\n",
    "12~True,90~True\n",
    "set() ~ False"
   ]
  },
  {
   "cell_type": "code",
   "execution_count": null,
   "id": "0023ae21",
   "metadata": {},
   "outputs": [],
   "source": []
  },
  {
   "cell_type": "code",
   "execution_count": null,
   "id": "825524a7",
   "metadata": {},
   "outputs": [],
   "source": []
  },
  {
   "cell_type": "code",
   "execution_count": null,
   "id": "3f33ed96",
   "metadata": {},
   "outputs": [],
   "source": [
    "if condition:\n",
    "    boc\n",
    "else:\n",
    "    boc"
   ]
  },
  {
   "cell_type": "code",
   "execution_count": null,
   "id": "903c2b48",
   "metadata": {},
   "outputs": [],
   "source": [
    "if False:\n",
    "    print('False')\n",
    "else:\n",
    "    print('True')"
   ]
  },
  {
   "cell_type": "code",
   "execution_count": null,
   "id": "029f7c68",
   "metadata": {},
   "outputs": [],
   "source": [
    "# agar and ke baaju mein False hai to aage CHECK KARNA HI HAI"
   ]
  },
  {
   "cell_type": "code",
   "execution_count": null,
   "id": "3d460a8b",
   "metadata": {},
   "outputs": [],
   "source": [
    "u = 'o'\n",
    "yu = 'pocoloco'\n",
    "you = 'hi joe'\n",
    "if u in 'you' and yu is u or you:\n",
    "    print('python')\n",
    "else:\n",
    "    print('programming')"
   ]
  },
  {
   "cell_type": "code",
   "execution_count": null,
   "id": "e276d629",
   "metadata": {},
   "outputs": [],
   "source": [
    "(False and True or False and True or True and True"
   ]
  },
  {
   "cell_type": "code",
   "execution_count": null,
   "id": "6bc09a1f",
   "metadata": {},
   "outputs": [],
   "source": [
    "bodmas\n",
    "bracket, oooo, divide, multiple, addition, substraction"
   ]
  },
  {
   "cell_type": "code",
   "execution_count": null,
   "id": "dc1b4313",
   "metadata": {},
   "outputs": [],
   "source": [
    "#Elif (elif utarnewali ladder)\n",
    "# 0 - neutral\n",
    "o = int(input())\n",
    "# input ke 2 kaam hai\n",
    "# 1. box open karna\n",
    "# 2. jo bhi enter kiya hai usko string bana dega"
   ]
  },
  {
   "cell_type": "code",
   "execution_count": null,
   "id": "3972d2fe",
   "metadata": {},
   "outputs": [],
   "source": [
    "type(o)"
   ]
  },
  {
   "cell_type": "code",
   "execution_count": null,
   "id": "ecd5e687",
   "metadata": {},
   "outputs": [],
   "source": [
    "Typecasting\n",
    "from one datatype to another datatype"
   ]
  },
  {
   "cell_type": "code",
   "execution_count": null,
   "id": "98e5ab0c",
   "metadata": {},
   "outputs": [],
   "source": [
    "print(o)"
   ]
  },
  {
   "cell_type": "code",
   "execution_count": null,
   "id": "f978380d",
   "metadata": {},
   "outputs": [],
   "source": [
    "type(o)"
   ]
  },
  {
   "cell_type": "code",
   "execution_count": null,
   "id": "7d090ae8",
   "metadata": {},
   "outputs": [],
   "source": [
    "type(56)"
   ]
  },
  {
   "cell_type": "code",
   "execution_count": null,
   "id": "4a90689c",
   "metadata": {},
   "outputs": [],
   "source": [
    "y = int('90')\n",
    "type(y)"
   ]
  },
  {
   "cell_type": "code",
   "execution_count": null,
   "id": "c2f80d1e",
   "metadata": {},
   "outputs": [],
   "source": [
    "y = int(56.78) #float --> int\n",
    "print(y)"
   ]
  },
  {
   "cell_type": "code",
   "execution_count": null,
   "id": "5555d09d",
   "metadata": {},
   "outputs": [],
   "source": [
    "i = '56.89'\n",
    "u = float(i)\n",
    "type(u)"
   ]
  },
  {
   "cell_type": "code",
   "execution_count": null,
   "id": "8a91fef7",
   "metadata": {},
   "outputs": [],
   "source": [
    "i = '56.89' #str --> int\n",
    "g1 = int(i)\n",
    "print(g1)"
   ]
  },
  {
   "cell_type": "code",
   "execution_count": null,
   "id": "e426cb58",
   "metadata": {},
   "outputs": [],
   "source": [
    "i = int(input()) #you can not convert a string CONTAINING OTHER THAN numbers into integer"
   ]
  },
  {
   "cell_type": "code",
   "execution_count": null,
   "id": "21262482",
   "metadata": {},
   "outputs": [],
   "source": [
    "i = int(input())\n",
    "if i > 0:\n",
    "    print('ye number positive hai')\n",
    "elif i == 0:\n",
    "    print('ye number neutral hai')\n",
    "else:\n",
    "    print('ye number negetive hai')"
   ]
  },
  {
   "cell_type": "code",
   "execution_count": null,
   "id": "0a03e261",
   "metadata": {},
   "outputs": [],
   "source": [
    "num = int(input())\n",
    "if num < 0:\n",
    "    print('negetive')\n",
    "else:\n",
    "    print('positive')"
   ]
  },
  {
   "cell_type": "code",
   "execution_count": null,
   "id": "ace0a8a8",
   "metadata": {},
   "outputs": [],
   "source": [
    "num = int(input())\n",
    "if num "
   ]
  },
  {
   "cell_type": "code",
   "execution_count": null,
   "id": "8c810878",
   "metadata": {},
   "outputs": [],
   "source": [
    "# constraints: only integers 0..100\n",
    "91, 92, 93,..99, 100 : A\n",
    "81,82,83..89,90 : B\n",
    "71 - 80 : C\n",
    "61 - 70 : D\n",
    "0 - 60 : FAIL"
   ]
  },
  {
   "cell_type": "code",
   "execution_count": null,
   "id": "55e1a94b",
   "metadata": {},
   "outputs": [],
   "source": [
    "num = int(input(\"1 se 100 ke bich mein se do number:\")) #36\n",
    "if num >= 91 and num <= 100:\n",
    "    print('A')\n",
    "elif num >= 81 and num <= 90:\n",
    "    print('B')\n",
    "elif num >= 71 and num <= 80:\n",
    "    print('C')\n",
    "elif num >= 61 and num <= 70:\n",
    "    print('D')\n",
    "elif num >= 0 and num <= 60:\n",
    "    print('FAIL')\n",
    "else:\n",
    "    print('invalid input')"
   ]
  },
  {
   "cell_type": "code",
   "execution_count": null,
   "id": "cdee23fe",
   "metadata": {},
   "outputs": [],
   "source": [
    "# number ka table print karna hai\n",
    "k = int(input()) #k = 8\n",
    "print(k * 1,\n",
    "k * 2,\n",
    "k * 3,\n",
    "k * 4,\n",
    "k * 5,\n",
    "k * 6 ,\n",
    "k * 7,\n",
    "k * 8,\n",
    "k * 9 ,\n",
    "k * 10)"
   ]
  },
  {
   "cell_type": "code",
   "execution_count": null,
   "id": "0cfe23cd",
   "metadata": {},
   "outputs": [],
   "source": [
    "k = int(input()) # 2\n",
    "i = 1\n",
    "if k * i <= k * 10:\n",
    "    print(k * i)\n",
    "    i+= 1\n",
    "if k * i <= k * 10:\n",
    "    print(k * i)\n",
    "    i+= 1\n",
    "if k * i <= k * 10:\n",
    "    print(k * i)\n",
    "    i+= 1\n",
    "if k * i <= k * 10:\n",
    "    print(k * i)\n",
    "    i+= 1\n",
    "if k * i <= k * 10:\n",
    "    print(k * i)\n",
    "    i+= 1\n",
    "if k * i <= k * 10:\n",
    "    print(k * i)\n",
    "    i+= 1\n",
    "if k * i <= k * 10:\n",
    "    print(k * i)\n",
    "    i+= 1\n",
    "if k * i <= k * 10:\n",
    "    print(k * i)\n",
    "    i+= 1\n",
    "if k * i <= k * 10:\n",
    "    print(k * i)\n",
    "    i+= 1\n",
    "if k * i <= k * 10:\n",
    "    print(k * i)\n",
    "    i+= 1\n"
   ]
  },
  {
   "cell_type": "code",
   "execution_count": null,
   "id": "ab47ff8c",
   "metadata": {},
   "outputs": [],
   "source": [
    "2 4 6 8 10 12 14 16 18 20 \n",
    "8\n",
    "16\n",
    "24\n",
    "32\n",
    "40\n",
    "48\n",
    "56\n",
    "64\n",
    "72\n",
    "80"
   ]
  },
  {
   "cell_type": "code",
   "execution_count": null,
   "id": "8e946c19",
   "metadata": {},
   "outputs": [],
   "source": [
    "# nested if\n",
    "num = int(input())\n",
    "if num < 1:\n",
    "    if num == 0:\n",
    "        print('zero')\n",
    "    else:\n",
    "        print('negEtive')\n",
    "else:\n",
    "    print('positive')"
   ]
  },
  {
   "cell_type": "code",
   "execution_count": null,
   "id": "7b76fecd",
   "metadata": {},
   "outputs": [],
   "source": [
    "# Looooooop: repeatedly task perform karna hai\n",
    "\n",
    "# Iterable : Jiske upar tum Iterate kar sako\n",
    "# Iterate : pass hone through hona\n",
    "# for Iteration : element variable mein store karna aur ek baar boc execute\n",
    "# while Iteration : condition check karna aur ek baar boc execute\n",
    "\n",
    "\n",
    "# 1. for\n",
    "# 2. while\n",
    "\n",
    "# 3. nested loops"
   ]
  },
  {
   "cell_type": "code",
   "execution_count": null,
   "id": "61d37e73",
   "metadata": {},
   "outputs": [],
   "source": [
    "# 2. while\n",
    "#Syntax:\n",
    "while condition:\n",
    "    boc/suite\n",
    "    "
   ]
  },
  {
   "cell_type": "code",
   "execution_count": null,
   "id": "63c7f1f6",
   "metadata": {},
   "outputs": [],
   "source": [
    "# agar condition check karne pe True milta hai to BOC ek baar execute karna hai\n",
    "# agar BOC ek baar execute kiya hai to condition check karni hai"
   ]
  },
  {
   "cell_type": "code",
   "execution_count": null,
   "id": "4e8a65d6",
   "metadata": {},
   "outputs": [],
   "source": [
    "# agar condition check karne pe False milta hai to while looooop end ho jata hai"
   ]
  },
  {
   "cell_type": "code",
   "execution_count": null,
   "id": "71b3b84a",
   "metadata": {},
   "outputs": [],
   "source": [
    "y = 45\n",
    "while y < 50:\n",
    "    print('sir aapki marzi')\n",
    "    y += 5 # y = 50"
   ]
  },
  {
   "cell_type": "code",
   "execution_count": null,
   "id": "f3bca390",
   "metadata": {},
   "outputs": [],
   "source": [
    "i = 1\n",
    "k = int(input())\n",
    "while k * i <= k * 10:\n",
    "    print(k * i)\n",
    "    i+= 1"
   ]
  },
  {
   "cell_type": "code",
   "execution_count": null,
   "id": "3bb1d4a8",
   "metadata": {},
   "outputs": [],
   "source": [
    "#constraints\n",
    "# 1.... 100 : only Integers\n",
    "# 2,3,4...10 ke tables check\n",
    "number = int(input()) # 20\n",
    "\n",
    "\"2's table\"\n",
    "\"4's table\"\n",
    "\"5's table\"\n",
    "\"10's table\""
   ]
  },
  {
   "cell_type": "code",
   "execution_count": null,
   "id": "f9e16558",
   "metadata": {},
   "outputs": [],
   "source": [
    "22\n",
    "'bhagwan'"
   ]
  },
  {
   "cell_type": "code",
   "execution_count": null,
   "id": "555ab772",
   "metadata": {},
   "outputs": [],
   "source": [
    "45\n",
    "\n",
    "\"5's table\"\n",
    "\"9's table\""
   ]
  },
  {
   "cell_type": "code",
   "execution_count": null,
   "id": "5dd7ae64",
   "metadata": {},
   "outputs": [],
   "source": [
    "72\n",
    "\"8's table\"\n",
    "\"9's table\""
   ]
  },
  {
   "cell_type": "code",
   "execution_count": null,
   "id": "1d9b3c87",
   "metadata": {},
   "outputs": [],
   "source": [
    "Ek Iteration"
   ]
  },
  {
   "cell_type": "code",
   "execution_count": 2,
   "id": "8e75d8ff",
   "metadata": {},
   "outputs": [
    {
     "name": "stdout",
     "output_type": "stream",
     "text": [
      "22\n",
      "bhagwan\n"
     ]
    }
   ],
   "source": [
    "num = int(input()) # 22\n",
    "i = 2\n",
    "print_hona_chahiye = True\n",
    "\n",
    "while i < 11:\n",
    "    if num % i == 0 and num <= i * 10:\n",
    "        print_hona_chahiye = False\n",
    "        print(i,\"'s table\")\n",
    "    i += 1\n",
    "\n",
    "if print_hona_chahiye:\n",
    "    print('bhagwan')"
   ]
  },
  {
   "cell_type": "code",
   "execution_count": null,
   "id": "d26f7d3b",
   "metadata": {},
   "outputs": [],
   "source": [
    " else:\n",
    "        print('bhagwan')"
   ]
  },
  {
   "cell_type": "code",
   "execution_count": null,
   "id": "b6b28e2a",
   "metadata": {},
   "outputs": [],
   "source": [
    "# 2. for\n",
    "#Syntax:\n",
    "for variable_name in Iterable:\n",
    "    boc\n"
   ]
  },
  {
   "cell_type": "code",
   "execution_count": null,
   "id": "9117d33b",
   "metadata": {},
   "outputs": [],
   "source": [
    "Iterable Datatypes: str + Collection\n",
    "Collection : list, tuple, set , dict"
   ]
  },
  {
   "cell_type": "code",
   "execution_count": 4,
   "id": "31ab142b",
   "metadata": {},
   "outputs": [
    {
     "name": "stdout",
     "output_type": "stream",
     "text": [
      "akhanda 23\n",
      "akhanda 45\n",
      "akhanda 56\n",
      "akhanda 78\n",
      "akhanda 89\n"
     ]
    }
   ],
   "source": [
    "for var1 in (23,45,56,78,89): #var1 = 89\n",
    "    print('akhanda', var1)"
   ]
  },
  {
   "cell_type": "code",
   "execution_count": null,
   "id": "6f34418b",
   "metadata": {},
   "outputs": [],
   "source": [
    "capable\n",
    "Iterable : iterable wo hota hai jiske upar tum Iterate kar sakte ho\n"
   ]
  },
  {
   "cell_type": "code",
   "execution_count": 8,
   "id": "ab62ca5a",
   "metadata": {},
   "outputs": [
    {
     "name": "stdout",
     "output_type": "stream",
     "text": [
      "munna tripathi"
     ]
    }
   ],
   "source": [
    "for i in \"munna tripathi\": #i = 'u'\n",
    "    print(i, end='')"
   ]
  },
  {
   "cell_type": "code",
   "execution_count": 9,
   "id": "42a299c6",
   "metadata": {},
   "outputs": [
    {
     "name": "stdout",
     "output_type": "stream",
     "text": [
      "a\n",
      "t\n",
      "34\n"
     ]
    }
   ],
   "source": [
    "for i in {'a':12, 't':23, 34:45}:\n",
    "    print(i)"
   ]
  },
  {
   "cell_type": "code",
   "execution_count": 14,
   "id": "3d20f304",
   "metadata": {},
   "outputs": [
    {
     "name": "stdout",
     "output_type": "stream",
     "text": [
      "phoolchand tripathi\n",
      "34\n",
      "2\n",
      "12\n",
      "guddu\n"
     ]
    }
   ],
   "source": [
    "for j in {34,2,'phoolchand tripathi', 'guddu', 12}: #u should not use set because of it's ORDER ISSUE\n",
    "    print(j)"
   ]
  },
  {
   "cell_type": "code",
   "execution_count": 29,
   "id": "e17d8caf",
   "metadata": {},
   "outputs": [],
   "source": [
    "for u in :\n",
    "    print(u)"
   ]
  },
  {
   "cell_type": "code",
   "execution_count": null,
   "id": "dd22a110",
   "metadata": {},
   "outputs": [],
   "source": [
    "# range(int, int, int)\n",
    "range(start, stop, step)\n",
    "range(start, stop)\n",
    "range(stop)\n",
    "default start = 0\n",
    "default step = +1\n",
    "STOP POINT : EXCLUSIVE"
   ]
  },
  {
   "cell_type": "code",
   "execution_count": 30,
   "id": "b8bcf911",
   "metadata": {},
   "outputs": [
    {
     "name": "stdout",
     "output_type": "stream",
     "text": [
      "1\n",
      "2\n",
      "3\n",
      "4\n"
     ]
    }
   ],
   "source": [
    "for u in range(1,5):\n",
    "    print(u)"
   ]
  },
  {
   "cell_type": "code",
   "execution_count": 31,
   "id": "2df7b7b4",
   "metadata": {},
   "outputs": [
    {
     "name": "stdout",
     "output_type": "stream",
     "text": [
      "0\n",
      "1\n",
      "2\n",
      "3\n",
      "4\n"
     ]
    }
   ],
   "source": [
    "for u in range(5):\n",
    "    print(u)"
   ]
  },
  {
   "cell_type": "code",
   "execution_count": 32,
   "id": "44d48822",
   "metadata": {},
   "outputs": [
    {
     "name": "stdout",
     "output_type": "stream",
     "text": [
      "-9\n",
      "-7\n",
      "-5\n",
      "-3\n"
     ]
    }
   ],
   "source": [
    "# -9, -7, -5, -3\n",
    "for j in range(-9, -1, 2):\n",
    "    print(j)"
   ]
  },
  {
   "cell_type": "code",
   "execution_count": null,
   "id": "2ec18026",
   "metadata": {},
   "outputs": [],
   "source": [
    "# snehal\n",
    "# -9, -8, -7,-6,-5,-4,-3,-2,-1,0,1\n",
    "\n",
    "# prerna, siddhesh, mayur\n",
    "# -9,-7,-5,-3,-0\n",
    "\n",
    "#ritesh\n",
    "# -9,-7,-5,-3,0\n",
    "\n",
    "#menil\n",
    "# ERROR\n",
    "\n",
    "# ritik\n",
    "# -9,-7,-5,-3,-1\n"
   ]
  },
  {
   "cell_type": "code",
   "execution_count": 36,
   "id": "211c732e",
   "metadata": {},
   "outputs": [],
   "source": [
    "for i in range(45,-5):\n",
    "    print(i)"
   ]
  },
  {
   "cell_type": "code",
   "execution_count": null,
   "id": "4b5fab83",
   "metadata": {},
   "outputs": [],
   "source": [
    "#ritik, siddhesh\n",
    "# 45,44,43,..-4\n",
    "\n",
    "# ritesh\n",
    "# no execution\n",
    "\n",
    "# snehal\n",
    "# sorry sir\n",
    "\n",
    "# prerna, menil\n",
    "# Error\n",
    "\n",
    "# mayur\n",
    "0,5,10,15,20,25...,35,40\n"
   ]
  },
  {
   "cell_type": "code",
   "execution_count": 25,
   "id": "31c0b0ae",
   "metadata": {},
   "outputs": [
    {
     "name": "stdout",
     "output_type": "stream",
     "text": [
      "*\n",
      "**\n",
      "***\n",
      "****\n"
     ]
    }
   ],
   "source": [
    "for i in range(1,5): #i = 2\n",
    "    print('*' * i)"
   ]
  },
  {
   "cell_type": "code",
   "execution_count": 23,
   "id": "c9a5e0cc",
   "metadata": {},
   "outputs": [
    {
     "name": "stdout",
     "output_type": "stream",
     "text": [
      "****\n"
     ]
    }
   ],
   "source": [
    "*******\n",
    "*****\n",
    "***\n",
    "*                 "
   ]
  },
  {
   "cell_type": "code",
   "execution_count": 27,
   "id": "2004e718",
   "metadata": {},
   "outputs": [
    {
     "name": "stdout",
     "output_type": "stream",
     "text": [
      "*******\n",
      "*****\n",
      "***\n",
      "*\n"
     ]
    }
   ],
   "source": [
    "num = 7\n",
    "while num != -1:\n",
    "    print('*' * num)\n",
    "    num -= 2"
   ]
  },
  {
   "cell_type": "code",
   "execution_count": 26,
   "id": "19395eeb",
   "metadata": {},
   "outputs": [
    {
     "name": "stdout",
     "output_type": "stream",
     "text": [
      "*******\n",
      "*****\n",
      "***\n",
      "*\n"
     ]
    }
   ],
   "source": [
    "for i in range(7,0,-2):\n",
    "    print('*' * i)"
   ]
  },
  {
   "cell_type": "code",
   "execution_count": null,
   "id": "41f2fc1b",
   "metadata": {},
   "outputs": [],
   "source": [
    "*\n",
    "**\n",
    "***\n",
    "****"
   ]
  },
  {
   "cell_type": "code",
   "execution_count": null,
   "id": "2c7f212f",
   "metadata": {},
   "outputs": [],
   "source": [
    "  *\n",
    " * *\n",
    "*   *\n",
    " * *\n",
    "  *"
   ]
  },
  {
   "cell_type": "code",
   "execution_count": null,
   "id": "4cbfb5a9",
   "metadata": {},
   "outputs": [],
   "source": [
    " *\n",
    "* *\n",
    " *"
   ]
  },
  {
   "cell_type": "code",
   "execution_count": null,
   "id": "ea1cf5a1",
   "metadata": {},
   "outputs": [],
   "source": [
    "   *\n",
    "  * *\n",
    " *   *\n",
    "*     *\n",
    " *   *\n",
    "  * *\n",
    "   *"
   ]
  },
  {
   "cell_type": "code",
   "execution_count": 29,
   "id": "e82f06ee",
   "metadata": {},
   "outputs": [
    {
     "name": "stdout",
     "output_type": "stream",
     "text": [
      "5\n",
      "120\n"
     ]
    }
   ],
   "source": [
    "num = int(input()) # num = 5\n",
    "rossi = 1\n",
    "for i in range(num,0,-1): #(5,4,3,2,1)\n",
    "    rossi *= i #rossi = 120\n",
    "    \n",
    "print(rossi)"
   ]
  },
  {
   "cell_type": "code",
   "execution_count": 30,
   "id": "a2a8529c",
   "metadata": {},
   "outputs": [
    {
     "name": "stdout",
     "output_type": "stream",
     "text": [
      "1 A\n",
      "1 B\n",
      "1 C\n",
      "2 A\n",
      "2 B\n",
      "2 C\n",
      "3 A\n",
      "3 B\n",
      "3 C\n"
     ]
    }
   ],
   "source": [
    "# Nested Looops\n",
    "for i in range(1,4): #outer loop # i = 1\n",
    "    for g in 'ABC': #inner loop # g = 'A'\n",
    "        print(i, g)"
   ]
  },
  {
   "cell_type": "code",
   "execution_count": null,
   "id": "8d65dadb",
   "metadata": {},
   "outputs": [],
   "source": [
    "for loop kab ruk jata hai ?\n",
    "1. jab Iterable khatam ho jata hai.. #Natural\n",
    "2. YA To loop break ho jata hai #non natural"
   ]
  },
  {
   "cell_type": "code",
   "execution_count": null,
   "id": "79030103",
   "metadata": {},
   "outputs": [],
   "source": [
    "while loop kab ruk jata hai ?\n",
    "1. jab condition false ho jata hai.. #Natural\n",
    "2. YA To loop break ho jata hai #non natural"
   ]
  },
  {
   "cell_type": "code",
   "execution_count": null,
   "id": "a0f4698a",
   "metadata": {},
   "outputs": [],
   "source": [
    "# Control Statements:\n",
    "break : loop will be terminated\n",
    "continue : continue from the next iteration\n",
    "pass : it does nothing, BUT IT PREVENTS INDENTATION\n",
    "ERROR"
   ]
  },
  {
   "cell_type": "code",
   "execution_count": 35,
   "id": "97cfa38c",
   "metadata": {},
   "outputs": [],
   "source": [
    "num = 24\n",
    "for i in range(num, num+1, -num+1-num): # (24, 25, 1)\n",
    "    print(i)"
   ]
  },
  {
   "cell_type": "code",
   "execution_count": 38,
   "id": "c0596e8e",
   "metadata": {},
   "outputs": [
    {
     "name": "stdout",
     "output_type": "stream",
     "text": [
      "12\n",
      "14\n"
     ]
    }
   ],
   "source": [
    "for i in range(12,24,2):\n",
    "    if i == 16:\n",
    "        break\n",
    "    else:\n",
    "        print(i)"
   ]
  },
  {
   "cell_type": "code",
   "execution_count": null,
   "id": "ac8320f7",
   "metadata": {},
   "outputs": [],
   "source": []
  },
  {
   "cell_type": "code",
   "execution_count": null,
   "id": "8815b154",
   "metadata": {},
   "outputs": [],
   "source": []
  },
  {
   "cell_type": "code",
   "execution_count": null,
   "id": "c9f1ee59",
   "metadata": {},
   "outputs": [],
   "source": [
    "# control is an illusion. - elliot alderson"
   ]
  },
  {
   "cell_type": "code",
   "execution_count": null,
   "id": "6cc2cdff",
   "metadata": {},
   "outputs": [],
   "source": [
    "1 A"
   ]
  },
  {
   "cell_type": "code",
   "execution_count": 41,
   "id": "b0b0b96d",
   "metadata": {},
   "outputs": [
    {
     "name": "stdout",
     "output_type": "stream",
     "text": [
      "1 A\n",
      "2 A\n",
      "3 A\n"
     ]
    }
   ],
   "source": [
    "for i in range(1,4): #i = 1\n",
    "    for g in 'ABC': # g = 'B'\n",
    "        if g == 'B':\n",
    "            break\n",
    "        else:\n",
    "            print(i, g)\n",
    "    "
   ]
  },
  {
   "cell_type": "code",
   "execution_count": null,
   "id": "45e8190a",
   "metadata": {},
   "outputs": [],
   "source": []
  },
  {
   "cell_type": "code",
   "execution_count": null,
   "id": "a75ebb8b",
   "metadata": {},
   "outputs": [],
   "source": []
  },
  {
   "cell_type": "code",
   "execution_count": 44,
   "id": "c015be44",
   "metadata": {},
   "outputs": [
    {
     "name": "stdout",
     "output_type": "stream",
     "text": [
      "popstar\n",
      "joji\n",
      "headphones\n",
      "12\n",
      "popstar\n",
      "joji\n",
      "headphones\n",
      "14\n",
      "popstar\n",
      "joji\n",
      "headphones\n",
      "18\n",
      "popstar\n",
      "joji\n",
      "headphones\n",
      "20\n",
      "popstar\n",
      "joji\n",
      "headphones\n",
      "22\n"
     ]
    }
   ],
   "source": [
    "for i in range(12,24,2):\n",
    "    if i == 16:\n",
    "        continue\n",
    "    print('popstar')\n",
    "    print('joji')\n",
    "    print('headphones')\n",
    "    print(i)"
   ]
  },
  {
   "cell_type": "code",
   "execution_count": 55,
   "id": "c81f4d2d",
   "metadata": {},
   "outputs": [
    {
     "name": "stdout",
     "output_type": "stream",
     "text": [
      "1\n",
      "2\n",
      "3\n",
      "4\n"
     ]
    }
   ],
   "source": [
    "# 3. pass : \n",
    "for i in range(1,5):\n",
    "    pass\n",
    "    pass\n",
    "    print(i)\n",
    "    pass"
   ]
  },
  {
   "cell_type": "code",
   "execution_count": 58,
   "id": "6f04078a",
   "metadata": {},
   "outputs": [
    {
     "name": "stdout",
     "output_type": "stream",
     "text": [
      "75\n",
      "76\n",
      "77\n"
     ]
    }
   ],
   "source": [
    "for i in [1,34,2,3]:\n",
    "    pass\n",
    "    \n",
    "n = 75\n",
    "while 78> n:\n",
    "    print(n)\n",
    "    n += 1"
   ]
  },
  {
   "cell_type": "code",
   "execution_count": null,
   "id": "a8ac48df",
   "metadata": {},
   "outputs": [],
   "source": []
  },
  {
   "cell_type": "code",
   "execution_count": null,
   "id": "82cb4409",
   "metadata": {},
   "outputs": [],
   "source": []
  },
  {
   "cell_type": "code",
   "execution_count": null,
   "id": "62e60014",
   "metadata": {},
   "outputs": [],
   "source": []
  },
  {
   "cell_type": "code",
   "execution_count": null,
   "id": "36fc65ec",
   "metadata": {},
   "outputs": [],
   "source": []
  },
  {
   "cell_type": "code",
   "execution_count": null,
   "id": "3d96f20f",
   "metadata": {},
   "outputs": [],
   "source": []
  },
  {
   "cell_type": "code",
   "execution_count": null,
   "id": "9d95e856",
   "metadata": {},
   "outputs": [],
   "source": [
    "for i in [23,4,56]:\n",
    "    "
   ]
  },
  {
   "cell_type": "code",
   "execution_count": null,
   "id": "ccb990fc",
   "metadata": {},
   "outputs": [],
   "source": [
    "# continue current Iteration chhod ke next iteration se continue karega"
   ]
  },
  {
   "cell_type": "code",
   "execution_count": null,
   "id": "bb24df80",
   "metadata": {},
   "outputs": [],
   "source": [
    "# String\n",
    "# characteristics\n",
    "Ordered, Indexed, Immutable, Allows duplicate characters"
   ]
  },
  {
   "cell_type": "code",
   "execution_count": 6,
   "id": "4baae280",
   "metadata": {},
   "outputs": [
    {
     "name": "stdout",
     "output_type": "stream",
     "text": [
      "io \n"
     ]
    }
   ],
   "source": [
    "v21 = 'io '\n",
    "print(v21)"
   ]
  },
  {
   "cell_type": "code",
   "execution_count": 8,
   "id": "b9444fc6",
   "metadata": {},
   "outputs": [
    {
     "data": {
      "text/plain": [
       "6"
      ]
     },
     "execution_count": 8,
     "metadata": {},
     "output_type": "execute_result"
    }
   ],
   "source": [
    "len('joker ')"
   ]
  },
  {
   "cell_type": "code",
   "execution_count": 9,
   "id": "c4ace1eb",
   "metadata": {},
   "outputs": [
    {
     "data": {
      "text/plain": [
       "32"
      ]
     },
     "execution_count": 9,
     "metadata": {},
     "output_type": "execute_result"
    }
   ],
   "source": [
    "y = \"~!@#$%^&*()_qwertyuioQWERTYUIO  \"\n",
    "len(y)\n"
   ]
  },
  {
   "cell_type": "code",
   "execution_count": 14,
   "id": "de08af70",
   "metadata": {},
   "outputs": [
    {
     "name": "stdout",
     "output_type": "stream",
     "text": [
      "he said, \"blah blah\"..\n"
     ]
    }
   ],
   "source": [
    "str1 = 'he said, \"blah blah\"..'\n",
    "print(str1)"
   ]
  },
  {
   "cell_type": "code",
   "execution_count": 22,
   "id": "0214a07b",
   "metadata": {},
   "outputs": [
    {
     "name": "stdout",
     "output_type": "stream",
     "text": [
      "pocoloco 'is a cocoloo' is \"rin powder\" hi jack\n"
     ]
    }
   ],
   "source": [
    "u = \"pocoloco 'is a cocoloo' is \\\"rin powder\\\" hi jack\"\n",
    "print(u)"
   ]
  },
  {
   "cell_type": "code",
   "execution_count": null,
   "id": "20f9039f",
   "metadata": {},
   "outputs": [],
   "source": [
    "# escape characters\n",
    "\\'\n",
    "\\\"\n",
    "\\\\ \n",
    "\\n : new line\n",
    "\\t : tab \n",
    "\\b : backspace"
   ]
  },
  {
   "cell_type": "code",
   "execution_count": 49,
   "id": "6f337612",
   "metadata": {},
   "outputs": [
    {
     "name": "stdout",
     "output_type": "stream",
     "text": [
      "li/o\n",
      " \n",
      "7\n"
     ]
    }
   ],
   "source": [
    "g = 'li/o\\n \\n7'\n",
    "print(g)"
   ]
  },
  {
   "cell_type": "code",
   "execution_count": 32,
   "id": "963b6b0d",
   "metadata": {},
   "outputs": [
    {
     "name": "stdout",
     "output_type": "stream",
     "text": [
      "\\\"\n"
     ]
    }
   ],
   "source": [
    "str1 = \"\\\\\\\"\" # \\ \"\n",
    "print(str1)\n",
    "# y\\n\\/"
   ]
  },
  {
   "cell_type": "code",
   "execution_count": 36,
   "id": "0403563d",
   "metadata": {},
   "outputs": [
    {
     "name": "stdout",
     "output_type": "stream",
     "text": [
      "\\\\\\\\\\\\\\\\\\\\\\\\\\\\\\\\\n"
     ]
    }
   ],
   "source": [
    "u = r'\\\\\\\\\\\\\\\\\\\\\\\\\\\\\\\\'\n",
    "print(u)"
   ]
  },
  {
   "cell_type": "code",
   "execution_count": 26,
   "id": "7b919c52",
   "metadata": {},
   "outputs": [
    {
     "name": "stdout",
     "output_type": "stream",
     "text": [
      "\\home\\devv\\docs\\pytho\\n_batches\\24_Feb_Siddhesh_Mayur\n"
     ]
    }
   ],
   "source": [
    "# raw string\n",
    "u = r'\\home\\devv\\docs\\pytho\\n_batches\\24_Feb_Siddhesh_Mayur'\n",
    "print(u)"
   ]
  },
  {
   "cell_type": "code",
   "execution_count": 58,
   "id": "54d5a29a",
   "metadata": {},
   "outputs": [
    {
     "name": "stdout",
     "output_type": "stream",
     "text": [
      "li\\ttiger\n"
     ]
    }
   ],
   "source": [
    "u = 'li\\ttiger'\n",
    "print(u)"
   ]
  },
  {
   "cell_type": "code",
   "execution_count": 63,
   "id": "c1c8c1ea",
   "metadata": {},
   "outputs": [
    {
     "data": {
      "text/plain": [
       "1"
      ]
     },
     "execution_count": 63,
     "metadata": {},
     "output_type": "execute_result"
    }
   ],
   "source": [
    "i = \"😞\"\n",
    "len(i)"
   ]
  },
  {
   "cell_type": "code",
   "execution_count": 67,
   "id": "724ff5f0",
   "metadata": {},
   "outputs": [],
   "source": [
    "# tasks\n",
    "ui =  'serial' + 'killer'\n",
    "#concatenation"
   ]
  },
  {
   "cell_type": "code",
   "execution_count": 68,
   "id": "59f8d9f1",
   "metadata": {},
   "outputs": [
    {
     "name": "stdout",
     "output_type": "stream",
     "text": [
      "serialkiller\n"
     ]
    }
   ],
   "source": [
    "print(ui)"
   ]
  },
  {
   "cell_type": "code",
   "execution_count": 73,
   "id": "149d1bc3",
   "metadata": {},
   "outputs": [
    {
     "name": "stdout",
     "output_type": "stream",
     "text": [
      "figdiorfigfig\n"
     ]
    }
   ],
   "source": [
    "u = 'fig'\n",
    "tyson = \"dior\"\n",
    "res = u + tyson + u * 2\n",
    "print(res)"
   ]
  },
  {
   "cell_type": "code",
   "execution_count": 76,
   "id": "47f89fe7",
   "metadata": {},
   "outputs": [
    {
     "name": "stdout",
     "output_type": "stream",
     "text": [
      "i\n",
      "n\n",
      "d\n",
      "e\n",
      "x\n"
     ]
    }
   ],
   "source": [
    "for i in 'index':\n",
    "    print(i)"
   ]
  },
  {
   "cell_type": "code",
   "execution_count": null,
   "id": "300b9a4b",
   "metadata": {},
   "outputs": [],
   "source": [
    "1. Positive Indexing: 0,1,2,3... from left to right \n",
    "2. negAtive Indexing : -1,-2,-3,..-8 from right to left"
   ]
  },
  {
   "cell_type": "code",
   "execution_count": 90,
   "id": "3a9d0da3",
   "metadata": {},
   "outputs": [],
   "source": [
    "str1 = 'locker is locker.. ahdfihja asd asd '\n",
    "you = str1[-8]"
   ]
  },
  {
   "cell_type": "code",
   "execution_count": 92,
   "id": "00a621b0",
   "metadata": {},
   "outputs": [
    {
     "name": "stdout",
     "output_type": "stream",
     "text": [
      "locker is locker.. ahdfihja asd asd \n"
     ]
    }
   ],
   "source": [
    "print(str1) \n"
   ]
  },
  {
   "cell_type": "code",
   "execution_count": null,
   "id": "958a2b6f",
   "metadata": {},
   "outputs": [],
   "source": [
    "# syntax:\n",
    "# string[indexvalue]\n"
   ]
  },
  {
   "cell_type": "code",
   "execution_count": 100,
   "id": "159e4acb",
   "metadata": {},
   "outputs": [],
   "source": [
    "u = 'dojo data science'\n",
    "y1 = u[-4]\n",
    "y2 = u[-2]"
   ]
  },
  {
   "cell_type": "code",
   "execution_count": 102,
   "id": "28998bd5",
   "metadata": {},
   "outputs": [
    {
     "data": {
      "text/plain": [
       "'e'"
      ]
     },
     "execution_count": 102,
     "metadata": {},
     "output_type": "execute_result"
    }
   ],
   "source": [
    "y1"
   ]
  },
  {
   "cell_type": "code",
   "execution_count": null,
   "id": "cd48314a",
   "metadata": {},
   "outputs": [],
   "source": [
    "#Everything is An OBJECT "
   ]
  },
  {
   "cell_type": "code",
   "execution_count": 21,
   "id": "5a28e46a",
   "metadata": {},
   "outputs": [
    {
     "ename": "TypeError",
     "evalue": "'str' object does not support item assignment",
     "output_type": "error",
     "traceback": [
      "\u001b[0;31m---------------------------------------------------------------------------\u001b[0m",
      "\u001b[0;31mTypeError\u001b[0m                                 Traceback (most recent call last)",
      "Cell \u001b[0;32mIn[21], line 3\u001b[0m\n\u001b[1;32m      1\u001b[0m \u001b[38;5;66;03m# Immutable = You can not change \u001b[39;00m\n\u001b[1;32m      2\u001b[0m str1 \u001b[38;5;241m=\u001b[39m \u001b[38;5;124m\"\u001b[39m\u001b[38;5;124mtyson\u001b[39m\u001b[38;5;124m\"\u001b[39m\n\u001b[0;32m----> 3\u001b[0m \u001b[43mstr1\u001b[49m\u001b[43m[\u001b[49m\u001b[38;5;241;43m-\u001b[39;49m\u001b[38;5;241;43m4\u001b[39;49m\u001b[43m]\u001b[49m \u001b[38;5;241m=\u001b[39m \u001b[38;5;124m'\u001b[39m\u001b[38;5;124mY\u001b[39m\u001b[38;5;124m'\u001b[39m\n\u001b[1;32m      4\u001b[0m str2 \u001b[38;5;241m=\u001b[39m \u001b[38;5;124m'\u001b[39m\u001b[38;5;124mtYson\u001b[39m\u001b[38;5;124m'\u001b[39m\n",
      "\u001b[0;31mTypeError\u001b[0m: 'str' object does not support item assignment"
     ]
    }
   ],
   "source": [
    "# Immutable = You can not change \n",
    "str1 = \"tyson\"\n",
    "str1[-4] = 'Y'\n",
    "str2 = 'tYson'"
   ]
  },
  {
   "cell_type": "code",
   "execution_count": 16,
   "id": "310d4580",
   "metadata": {},
   "outputs": [],
   "source": [
    "# Mutable\n",
    "l1 = [34,56,7]\n",
    "l1[-1] = True"
   ]
  },
  {
   "cell_type": "code",
   "execution_count": 17,
   "id": "f5f2edea",
   "metadata": {},
   "outputs": [
    {
     "name": "stdout",
     "output_type": "stream",
     "text": [
      "[34, 56, True]\n"
     ]
    }
   ],
   "source": [
    "print(l1)"
   ]
  },
  {
   "cell_type": "code",
   "execution_count": 39,
   "id": "d240be4a",
   "metadata": {},
   "outputs": [
    {
     "data": {
      "text/plain": [
       "'imakarum ikurah'"
      ]
     },
     "execution_count": 39,
     "metadata": {},
     "output_type": "execute_result"
    }
   ],
   "source": [
    "#slicing\n",
    "# str1[start:stop:step]\n",
    "# str1[start:stop]\n",
    "# str1[index]\n",
    "str1= 'haruki murakami'\n",
    "str1[::-1]"
   ]
  },
  {
   "cell_type": "code",
   "execution_count": 42,
   "id": "57802965",
   "metadata": {},
   "outputs": [
    {
     "data": {
      "text/plain": [
       "'uimrk'"
      ]
     },
     "execution_count": 42,
     "metadata": {},
     "output_type": "execute_result"
    }
   ],
   "source": [
    "str1[3:-2:2]"
   ]
  },
  {
   "cell_type": "code",
   "execution_count": 54,
   "id": "42524f06",
   "metadata": {},
   "outputs": [
    {
     "data": {
      "text/plain": [
       "'w'"
      ]
     },
     "execution_count": 54,
     "metadata": {},
     "output_type": "execute_result"
    }
   ],
   "source": [
    "str2 = \"why y waay\"\n",
    "str2[-34:-9]"
   ]
  },
  {
   "cell_type": "code",
   "execution_count": null,
   "id": "f6a401c2",
   "metadata": {},
   "outputs": [],
   "source": [
    "# string datatype Immutable hai usme kisi \n",
    "# bhi type ka change nahi ho sakta hai..."
   ]
  },
  {
   "cell_type": "code",
   "execution_count": 60,
   "id": "e8c3d542",
   "metadata": {},
   "outputs": [
    {
     "data": {
      "text/plain": [
       "0"
      ]
     },
     "execution_count": 60,
     "metadata": {},
     "output_type": "execute_result"
    }
   ],
   "source": [
    "# Methods\n",
    "str1 = 'banana'\n",
    "#Synatx:\n",
    "# str1.method_name()\n",
    "\n",
    "# str1.count('na') #returns the occurence of the given substring\n",
    "# Ans: 2\n",
    "\n",
    "# str1.count('X') #returns 0 if the given substring is not present\n",
    "#Ans: 0"
   ]
  },
  {
   "cell_type": "code",
   "execution_count": 75,
   "id": "de5f4ff4",
   "metadata": {},
   "outputs": [
    {
     "data": {
      "text/plain": [
       "' Haruki Murakami'"
      ]
     },
     "execution_count": 75,
     "metadata": {},
     "output_type": "execute_result"
    }
   ],
   "source": [
    "str1 = 'haruki MURAKAMI'\n",
    "# str1.capitalize()  # string ka first character uppercase, rest of the characters lowercase\n",
    "#Ans: 'Haruki murakami'\n",
    "\n",
    "str1.title() #each word's first character will be UPPER CASE and\n",
    "# rest of the letters will be in lowercase\n",
    "#Ans: 'Haruki Murakami'"
   ]
  },
  {
   "cell_type": "code",
   "execution_count": 79,
   "id": "f8bcee25",
   "metadata": {},
   "outputs": [
    {
     "name": "stdout",
     "output_type": "stream",
     "text": [
      "KITE FESTIVAL\n"
     ]
    }
   ],
   "source": [
    "str23 = \"kite fesTIVAL\"\n",
    "y = str23.upper() #all characters will be in uppercase\n",
    "print(y)"
   ]
  },
  {
   "cell_type": "code",
   "execution_count": 80,
   "id": "e54e3a63",
   "metadata": {},
   "outputs": [
    {
     "data": {
      "text/plain": [
       "'kite festival'"
      ]
     },
     "execution_count": 80,
     "metadata": {},
     "output_type": "execute_result"
    }
   ],
   "source": [
    "str23 = \"kite fesTIVAL\"\n",
    "str23.lower() #all characters will be converted in lowercase"
   ]
  },
  {
   "cell_type": "code",
   "execution_count": 87,
   "id": "1ffc5a25",
   "metadata": {},
   "outputs": [
    {
     "data": {
      "text/plain": [
       "'kite α festivα β b  γ γ  β  al ⅱ ii'"
      ]
     },
     "execution_count": 87,
     "metadata": {},
     "output_type": "execute_result"
    }
   ],
   "source": [
    "str23 = \"kite α fesTIVΑ Β B  Γ γ  β  AL Ⅱ II\"\n",
    "str23.casefold() #all characters will be forcefully converted in lowercase"
   ]
  },
  {
   "cell_type": "code",
   "execution_count": 91,
   "id": "fd10aa07",
   "metadata": {},
   "outputs": [
    {
     "data": {
      "text/plain": [
       "'ß'"
      ]
     },
     "execution_count": 91,
     "metadata": {},
     "output_type": "execute_result"
    }
   ],
   "source": [
    "str23 = \"ß\"\n",
    "str23.lower()"
   ]
  },
  {
   "cell_type": "code",
   "execution_count": 92,
   "id": "1b8b9e1d",
   "metadata": {},
   "outputs": [
    {
     "data": {
      "text/plain": [
       "'ss'"
      ]
     },
     "execution_count": 92,
     "metadata": {},
     "output_type": "execute_result"
    }
   ],
   "source": [
    "str23 = \"ß\"\n",
    "str23.casefold()"
   ]
  },
  {
   "cell_type": "code",
   "execution_count": null,
   "id": "1a54c04e",
   "metadata": {},
   "outputs": [],
   "source": [
    "# John Wick: Chapter 4"
   ]
  },
  {
   "cell_type": "code",
   "execution_count": 3,
   "id": "5471092a",
   "metadata": {},
   "outputs": [
    {
     "data": {
      "text/plain": [
       "1"
      ]
     },
     "execution_count": 3,
     "metadata": {},
     "output_type": "execute_result"
    }
   ],
   "source": [
    "str3 = 'lion and tiger'\n",
    "str3.count('on')"
   ]
  },
  {
   "cell_type": "code",
   "execution_count": 4,
   "id": "66e40a7e",
   "metadata": {},
   "outputs": [
    {
     "name": "stdout",
     "output_type": "stream",
     "text": [
      "8\n"
     ]
    }
   ],
   "source": [
    "res = 0\n",
    "for i in 'pocoloco': # i = 'p'\n",
    "    res += 1\n",
    "print(res)\n",
    "    "
   ]
  },
  {
   "cell_type": "code",
   "execution_count": null,
   "id": "31976603",
   "metadata": {},
   "outputs": [],
   "source": [
    "# round brackets ke andar ARGUMENTS likhte hain"
   ]
  },
  {
   "cell_type": "code",
   "execution_count": 21,
   "id": "2149746a",
   "metadata": {},
   "outputs": [
    {
     "name": "stdout",
     "output_type": "stream",
     "text": [
      "100000000000\n"
     ]
    }
   ],
   "source": [
    "# y = 100_000_000_000\n",
    "# print(y)"
   ]
  },
  {
   "cell_type": "code",
   "execution_count": 42,
   "id": "382b87a4",
   "metadata": {},
   "outputs": [
    {
     "data": {
      "text/plain": [
       "'001234'"
      ]
     },
     "execution_count": 42,
     "metadata": {},
     "output_type": "execute_result"
    }
   ],
   "source": [
    "u = 'qwerty' # 100_000_000_000\n",
    "#Sytax:\n",
    "# str.center(length, fill character)\n",
    "# str.center(int)\n",
    "# str.center(int, str)\n",
    "# u.center(10, '$')\n",
    "# u.ljust(10,'T')\n",
    "\n",
    "message = 'dikhna mat yahan pe'\n",
    "message.rjust(len(message)+4, '*')\n",
    "# '****dikhna mat yahan pe'\n",
    "\n",
    "bill = '1234'\n",
    "#str.zfill(length) # aligns right side, fills the white characters with zero\n",
    "bill.zfill(len(bill)+2)"
   ]
  },
  {
   "cell_type": "code",
   "execution_count": 15,
   "id": "b78fd060",
   "metadata": {},
   "outputs": [
    {
     "data": {
      "text/plain": [
       "False"
      ]
     },
     "execution_count": 15,
     "metadata": {},
     "output_type": "execute_result"
    }
   ],
   "source": [
    "str1 = 'killer'\n",
    "# str1.endswith('iler') # checks whether the given substring is at the end of the string or not\n",
    "# boolean mein answer deta hai\n",
    "str1.startswith('kller')\n",
    "# boolean mein answer deta hai"
   ]
  },
  {
   "cell_type": "code",
   "execution_count": 28,
   "id": "3eda9bbc",
   "metadata": {},
   "outputs": [
    {
     "data": {
      "text/plain": [
       "-1"
      ]
     },
     "execution_count": 28,
     "metadata": {},
     "output_type": "execute_result"
    }
   ],
   "source": [
    "g = \"\"\"Pythong is a high-level, general-purpose programming\n",
    "language. Its design philosophy emphasizes code readability\n",
    "with the use of significant indentation via the off-side rule.\n",
    "Python is dynamically typed and garbage-collected.\"\"\"\n",
    "g.find('g') #left to right , first occurence\n",
    "g.find('mayur') # if the given substring is not present then it will \n",
    "# return -1"
   ]
  },
  {
   "cell_type": "code",
   "execution_count": 45,
   "id": "db941584",
   "metadata": {},
   "outputs": [],
   "source": [
    "g = \"\"\"Pythong is a high-level, general-purpose programming\n",
    "language. Its design philosophy emphasizes code readability\n",
    "with the use of significant indentation via the off-side rule.\n",
    "Python is dynamically typed and garbage-collected.\"\"\"\n",
    "i1 = g.index('X') # if substring not found , RAISE AN ERROR\n",
    "f1 = g.find('X') # if substring not found, return -1"
   ]
  },
  {
   "cell_type": "code",
   "execution_count": 46,
   "id": "ddcd83f9",
   "metadata": {},
   "outputs": [
    {
     "name": "stdout",
     "output_type": "stream",
     "text": [
      "-1\n"
     ]
    }
   ],
   "source": [
    "print(f1)b"
   ]
  },
  {
   "cell_type": "code",
   "execution_count": 60,
   "id": "acac8892",
   "metadata": {},
   "outputs": [
    {
     "data": {
      "text/plain": [
       "-1"
      ]
     },
     "execution_count": 60,
     "metadata": {},
     "output_type": "execute_result"
    }
   ],
   "source": [
    "str4 = 'this is guido van rossum'\n",
    "# str.find(substring, start, stop)\n",
    "# str.index(substring, start, stop)\n",
    "str4.find('is',3,4)"
   ]
  },
  {
   "cell_type": "code",
   "execution_count": 67,
   "id": "b3a0ac99",
   "metadata": {},
   "outputs": [
    {
     "data": {
      "text/plain": [
       "5"
      ]
     },
     "execution_count": 67,
     "metadata": {},
     "output_type": "execute_result"
    }
   ],
   "source": [
    "str4 = 'this is guido van rossum'\n",
    "# str4.rfind('is') # right to left, first occurence\n",
    "#ans: 5\n",
    "\n",
    "# str4.rindex('is') # right to left, first occurence\n",
    "#ans: 5"
   ]
  },
  {
   "cell_type": "code",
   "execution_count": 74,
   "id": "f6145765",
   "metadata": {},
   "outputs": [
    {
     "name": "stdout",
     "output_type": "stream",
     "text": [
      "Hello keanu!!\n",
      "Welcome to this webapp.\n",
      "Your OTP is 5656\n"
     ]
    }
   ],
   "source": [
    "# placeholders {}\n",
    "str4 = 'Hello {}!!\\nWelcome to this webapp.\\nYour OTP is {}'\n",
    "res = str4.format('keanu', 5656)\n",
    "print(res)"
   ]
  },
  {
   "cell_type": "code",
   "execution_count": 7,
   "id": "69152845",
   "metadata": {},
   "outputs": [
    {
     "name": "stdout",
     "output_type": "stream",
     "text": [
      "reena\n",
      "Hello reena!!\n",
      "Welcome to this webapp.\n",
      "Your OTP is 4150\n"
     ]
    }
   ],
   "source": [
    "# f string\n",
    "import random\n",
    "print(f\"Hello {input()}!!\\nWelcome to this webapp.\\nYour OTP is {random.randint(1000,9999)}\")"
   ]
  },
  {
   "cell_type": "code",
   "execution_count": 148,
   "id": "30d9d050",
   "metadata": {},
   "outputs": [
    {
     "data": {
      "text/plain": [
       "'K I T E'"
      ]
     },
     "execution_count": 148,
     "metadata": {},
     "output_type": "execute_result"
    }
   ],
   "source": [
    "str3 = 'hi'\n",
    "# str3.swapcase() # upper ==> lower & lower ==> upper\n",
    "\n",
    "#Syntax:\n",
    "# seperator.join(Iterable)\n",
    "# str3.join('123')\n",
    "\n",
    "# seperator.join(Iterable)\n",
    "' '.join('KITE')"
   ]
  },
  {
   "cell_type": "code",
   "execution_count": 47,
   "id": "53ef01ed",
   "metadata": {},
   "outputs": [],
   "source": [
    "y = r'\\n'.join(['Quavo','West','tOps'])"
   ]
  },
  {
   "cell_type": "code",
   "execution_count": 48,
   "id": "df11330d",
   "metadata": {},
   "outputs": [
    {
     "name": "stdout",
     "output_type": "stream",
     "text": [
      "Quavo\\nWest\\ntOps\n"
     ]
    }
   ],
   "source": [
    "print(y)"
   ]
  },
  {
   "cell_type": "code",
   "execution_count": 68,
   "id": "fe96a105",
   "metadata": {},
   "outputs": [
    {
     "data": {
      "text/plain": [
       "'python lTARAnguTARAgeca'"
      ]
     },
     "execution_count": 68,
     "metadata": {},
     "output_type": "execute_result"
    }
   ],
   "source": [
    "str4 = 'python languageca'\n",
    "# str.replace(to be replaced, replcement, occurence)\n",
    "str4.replace('a','TARA',2)"
   ]
  },
  {
   "cell_type": "code",
   "execution_count": 71,
   "id": "22eb35be",
   "metadata": {},
   "outputs": [],
   "source": [
    "str4 = 'ki hi gi fi di si ai'\n",
    "l1 = str4.split() # splits from spaces returns A LIST\n"
   ]
  },
  {
   "cell_type": "code",
   "execution_count": 72,
   "id": "b03b43ad",
   "metadata": {},
   "outputs": [
    {
     "data": {
      "text/plain": [
       "'ki hi gi fi di si ai'"
      ]
     },
     "execution_count": 72,
     "metadata": {},
     "output_type": "execute_result"
    }
   ],
   "source": [
    "' '.join(l1)"
   ]
  },
  {
   "cell_type": "code",
   "execution_count": null,
   "id": "e3029425",
   "metadata": {},
   "outputs": [],
   "source": [
    "4 : menil\n"
   ]
  },
  {
   "cell_type": "code",
   "execution_count": 75,
   "id": "f16d7ac9",
   "metadata": {},
   "outputs": [
    {
     "ename": "TypeError",
     "evalue": "must be str, not int",
     "output_type": "error",
     "traceback": [
      "\u001b[0;31m---------------------------------------------------------------------------\u001b[0m",
      "\u001b[0;31mTypeError\u001b[0m                                 Traceback (most recent call last)",
      "Cell \u001b[0;32mIn[75], line 2\u001b[0m\n\u001b[1;32m      1\u001b[0m tyson \u001b[38;5;241m=\u001b[39m \u001b[38;5;124m'\u001b[39m\u001b[38;5;124mtyson\u001b[39m\u001b[38;5;124m'\u001b[39m\n\u001b[0;32m----> 2\u001b[0m tyson \u001b[38;5;241m+\u001b[39m\u001b[38;5;241m=\u001b[39m tyson\u001b[38;5;241m.\u001b[39mfind(\u001b[38;5;124;43m'\u001b[39;49m\u001b[38;5;124;43mtyson\u001b[39;49m\u001b[38;5;124;43m'\u001b[39;49m\u001b[38;5;241;43m.\u001b[39;49m\u001b[43mindex\u001b[49m\u001b[43m(\u001b[49m\u001b[43mtyson\u001b[49m\u001b[38;5;241;43m.\u001b[39;49m\u001b[43mrfind\u001b[49m\u001b[43m(\u001b[49m\u001b[38;5;124;43m'\u001b[39;49m\u001b[38;5;124;43mnosyt\u001b[39;49m\u001b[38;5;124;43m'\u001b[39;49m\u001b[43m)\u001b[49m\u001b[43m)\u001b[49m)\n\u001b[1;32m      3\u001b[0m \u001b[38;5;28mprint\u001b[39m(tyson)\n",
      "\u001b[0;31mTypeError\u001b[0m: must be str, not int"
     ]
    }
   ],
   "source": [
    "tyson = 'tyson'\n",
    "tyson += tyson.find('tyson'.index(tyson.rfind('nosyt')))\n",
    "print(tyson)"
   ]
  },
  {
   "cell_type": "code",
   "execution_count": 77,
   "id": "c718a0a3",
   "metadata": {},
   "outputs": [
    {
     "data": {
      "text/plain": [
       "'qwerqwe yu'"
      ]
     },
     "execution_count": 77,
     "metadata": {},
     "output_type": "execute_result"
    }
   ],
   "source": [
    "str3 = 'qwerqwe\\tyu'\n",
    "\n",
    "# str3.partition()\n",
    "# str3.rpartition()\n",
    "# str3.split()\n",
    "# str3.splitlines()"
   ]
  },
  {
   "cell_type": "code",
   "execution_count": 101,
   "id": "d361c851",
   "metadata": {},
   "outputs": [
    {
     "data": {
      "text/plain": [
       "'tyso    son'"
      ]
     },
     "execution_count": 101,
     "metadata": {},
     "output_type": "execute_result"
    }
   ],
   "source": [
    "str3 = 'tyso\\tson'\n",
    "# str3.expandtabs(4)"
   ]
  },
  {
   "cell_type": "code",
   "execution_count": 78,
   "id": "cfe61f29",
   "metadata": {},
   "outputs": [],
   "source": [
    "#siddhesh, menil --> 'ty   son' 3\n",
    "#ritesh, prerna --> 'ty      son' 6\n",
    "#mayur --> 'ty    son' 4"
   ]
  },
  {
   "cell_type": "code",
   "execution_count": 106,
   "id": "c87c461e",
   "metadata": {},
   "outputs": [
    {
     "data": {
      "text/plain": [
       "'   . rita skjdf asdhja d        d'"
      ]
     },
     "execution_count": 106,
     "metadata": {},
     "output_type": "execute_result"
    }
   ],
   "source": [
    "str3 = '   . rita skjdf asdhja d        d      '\n",
    "# str3.strip() # strips from both sides\n",
    "# str3.lstrip() #strips only from the left side\n",
    "str3.rstrip()"
   ]
  },
  {
   "cell_type": "code",
   "execution_count": 109,
   "id": "00698011",
   "metadata": {},
   "outputs": [
    {
     "data": {
      "text/plain": [
       "('k', 'it', 'e')"
      ]
     },
     "execution_count": 109,
     "metadata": {},
     "output_type": "execute_result"
    }
   ],
   "source": [
    "str4 = 'kite'\n",
    "# returns a tuple, containing 3 parts(strings)\n",
    "str4.partition('it')"
   ]
  },
  {
   "cell_type": "code",
   "execution_count": 118,
   "id": "e2f98dd7",
   "metadata": {},
   "outputs": [
    {
     "data": {
      "text/plain": [
       "('', 'lion', ' & tiger lion')"
      ]
     },
     "execution_count": 118,
     "metadata": {},
     "output_type": "execute_result"
    }
   ],
   "source": [
    "str5 = 'lion & tiger lion'\n",
    "str5.partition('lion') #starts finding substring from left to right"
   ]
  },
  {
   "cell_type": "code",
   "execution_count": 125,
   "id": "a0a357be",
   "metadata": {},
   "outputs": [
    {
     "data": {
      "text/plain": [
       "'ab'"
      ]
     },
     "execution_count": 125,
     "metadata": {},
     "output_type": "execute_result"
    }
   ],
   "source": [
    "''+'a' + '' + 'b'"
   ]
  },
  {
   "cell_type": "code",
   "execution_count": 126,
   "id": "7ec0def3",
   "metadata": {},
   "outputs": [
    {
     "ename": "ValueError",
     "evalue": "empty separator",
     "output_type": "error",
     "traceback": [
      "\u001b[0;31m---------------------------------------------------------------------------\u001b[0m",
      "\u001b[0;31mValueError\u001b[0m                                Traceback (most recent call last)",
      "Cell \u001b[0;32mIn[126], line 2\u001b[0m\n\u001b[1;32m      1\u001b[0m str5 \u001b[38;5;241m=\u001b[39m \u001b[38;5;124m'\u001b[39m\u001b[38;5;124mlion & tiger lion\u001b[39m\u001b[38;5;124m'\u001b[39m\n\u001b[0;32m----> 2\u001b[0m \u001b[43mstr5\u001b[49m\u001b[38;5;241;43m.\u001b[39;49m\u001b[43mrpartition\u001b[49m\u001b[43m(\u001b[49m\u001b[38;5;124;43m'\u001b[39;49m\u001b[38;5;124;43m'\u001b[39;49m\u001b[43m)\u001b[49m \u001b[38;5;66;03m# starts finding substring from right to left\u001b[39;00m\n",
      "\u001b[0;31mValueError\u001b[0m: empty separator"
     ]
    }
   ],
   "source": [
    "str5 = 'lion & tiger lion'\n",
    "str5.rpartition('X') # starts finding substring from right to left"
   ]
  },
  {
   "cell_type": "code",
   "execution_count": 127,
   "id": "72c26efe",
   "metadata": {},
   "outputs": [
    {
     "name": "stdout",
     "output_type": "stream",
     "text": [
      "23\n"
     ]
    },
    {
     "data": {
      "text/plain": [
       "'23'"
      ]
     },
     "execution_count": 127,
     "metadata": {},
     "output_type": "execute_result"
    }
   ],
   "source": [
    "# input()\n",
    "# 1. box open karna\n",
    "# 2. value ko string banana"
   ]
  },
  {
   "cell_type": "code",
   "execution_count": 130,
   "id": "5ddff0b1",
   "metadata": {},
   "outputs": [
    {
     "name": "stdout",
     "output_type": "stream",
     "text": [
      "3 4 5 6\n"
     ]
    }
   ],
   "source": [
    "print(3,4,5,6)\n",
    "# 1. values ko print karna\n",
    "# 2. values print karne ke baad, cursor new line pe bhejna"
   ]
  },
  {
   "cell_type": "code",
   "execution_count": 147,
   "id": "46176867",
   "metadata": {},
   "outputs": [
    {
     "name": "stdout",
     "output_type": "stream",
     "text": [
      "2quavo3quavo4quavo5#\n",
      "loki\n"
     ]
    }
   ],
   "source": [
    "print(2,3,4,5, end = '#\\n', sep = 'quavo')\n",
    "print('loki')"
   ]
  },
  {
   "cell_type": "code",
   "execution_count": null,
   "id": "870d56e8",
   "metadata": {},
   "outputs": [],
   "source": []
  },
  {
   "cell_type": "code",
   "execution_count": null,
   "id": "7421dfb8",
   "metadata": {},
   "outputs": [],
   "source": [
    "# SNEHAL KO 150 baar datatypes likhke aana  \n",
    "# Immutable: you can not change\n",
    "string, tuple, int, float, bool\n",
    "\n",
    "# Mutable: you CAN change\n",
    "list, set, dict"
   ]
  },
  {
   "cell_type": "code",
   "execution_count": 157,
   "id": "f76c029f",
   "metadata": {},
   "outputs": [
    {
     "data": {
      "text/plain": [
       "['lion ', 'nd rit', ' and add kar du to ye topic nahi padhaya hai']"
      ]
     },
     "execution_count": 157,
     "metadata": {},
     "output_type": "execute_result"
    }
   ],
   "source": [
    "str4 = 'lion and rita and add kar du to ye topic nahi padhaya hai'\n",
    "# returns a list containing strings\n",
    "#Syntax:\n",
    "# str3.split(substring, max_split)\n",
    "str4.split('a',2)\n"
   ]
  },
  {
   "cell_type": "code",
   "execution_count": 167,
   "id": "85f4f169",
   "metadata": {},
   "outputs": [
    {
     "data": {
      "text/plain": [
       "['lion and rita and add kar du to ye topic nahi', 'padhaya', 'hai']"
      ]
     },
     "execution_count": 167,
     "metadata": {},
     "output_type": "execute_result"
    }
   ],
   "source": [
    "str4 = 'lion and rita and add kar du to ye topic nahi padhaya hai'\n",
    "str4.rsplit(' ',2)"
   ]
  },
  {
   "cell_type": "code",
   "execution_count": 192,
   "id": "f18ac456",
   "metadata": {},
   "outputs": [
    {
     "data": {
      "text/plain": [
       "['tyson python',\n",
       " 'this is line 2 hello',\n",
       " 'this is line 3',\n",
       " 'this is line 4',\n",
       " 'this is line 5',\n",
       " 'this is line 6']"
      ]
     },
     "execution_count": 192,
     "metadata": {},
     "output_type": "execute_result"
    }
   ],
   "source": [
    "str4 = \"\"\"tyson python\n",
    "this is line 2 hello\n",
    "this is line 3\n",
    "this is line 4\n",
    "this is line 5\n",
    "this is line 6\"\"\"\n",
    "# NAHI PADHAYA HAI\n",
    "# 0 ke alawa integer number likhne pe \\n ko bhi string mein consider\n",
    "str4.splitlines(0)\n"
   ]
  },
  {
   "cell_type": "code",
   "execution_count": null,
   "id": "14b45815",
   "metadata": {},
   "outputs": [],
   "source": []
  },
  {
   "cell_type": "code",
   "execution_count": null,
   "id": "9a89dd18",
   "metadata": {},
   "outputs": [],
   "source": []
  },
  {
   "cell_type": "code",
   "execution_count": null,
   "id": "310119b9",
   "metadata": {},
   "outputs": [],
   "source": []
  },
  {
   "cell_type": "code",
   "execution_count": 199,
   "id": "dc1163fc",
   "metadata": {},
   "outputs": [
    {
     "data": {
      "text/plain": [
       "False"
      ]
     },
     "execution_count": 199,
     "metadata": {},
     "output_type": "execute_result"
    }
   ],
   "source": [
    "str5 = 'r1234567 itik'\n",
    "# alpha numeric \n",
    "str5.isalnum() # ALL characters of the string is alnum or not\n",
    "# if yes ==> True\n",
    "# if no ==> False\n",
    "\n",
    "str5 = 'killer 7'\n",
    "str5.isalpha() # ALL characters of the string is alphabets or not"
   ]
  },
  {
   "cell_type": "code",
   "execution_count": 204,
   "id": "3ca76dc4",
   "metadata": {},
   "outputs": [
    {
     "data": {
      "text/plain": [
       "False"
      ]
     },
     "execution_count": 204,
     "metadata": {},
     "output_type": "execute_result"
    }
   ],
   "source": [
    "str5 = 'durjoy☹ dutta!@#$%^&* 45'\n",
    "str5.isascii() #if ALL THE CHARACTERS are from ascii table then returns True,\n",
    "# else return False"
   ]
  },
  {
   "cell_type": "code",
   "execution_count": 209,
   "id": "1b55aad7",
   "metadata": {},
   "outputs": [
    {
     "data": {
      "text/plain": [
       "True"
      ]
     },
     "execution_count": 209,
     "metadata": {},
     "output_type": "execute_result"
    }
   ],
   "source": [
    "# identifier = name\n",
    "str5 = '_5_joker'\n",
    "str5.isidentifier()"
   ]
  },
  {
   "cell_type": "code",
   "execution_count": 215,
   "id": "27ae9fd7",
   "metadata": {},
   "outputs": [
    {
     "name": "stdout",
     "output_type": "stream",
     "text": [
      "R1234567 ITIK QWERTYUISDFGHJKL\n"
     ]
    }
   ],
   "source": [
    "str5 = 'r1234567 itik qwertyuisdfghjkl'\n",
    "new = str5.upper()\n",
    "# str5.islower() # if All characters are in lowercase then will return True. else False \n",
    "# new.isupper() # if All characters are in uppercase then will return True. else uppercase\n",
    "# print(new)\n"
   ]
  },
  {
   "cell_type": "code",
   "execution_count": 234,
   "id": "a893a0e7",
   "metadata": {},
   "outputs": [
    {
     "data": {
      "text/plain": [
       "False"
      ]
     },
     "execution_count": 234,
     "metadata": {},
     "output_type": "execute_result"
    }
   ],
   "source": [
    "# str5 = 'Python Programming'\n",
    "# str5.istitle() # is given string in title format or not\n",
    "\n",
    "# str4 = 'qwe\\nr'\n",
    "# str4.isprintable() # if all characters are printable then will return True,\n",
    "# else will return False(escape characters)\n",
    "\n",
    "str2 = '      .'\n",
    "str2.isspace() # if all characters are space then it will return True\n",
    "# else will return False"
   ]
  },
  {
   "cell_type": "code",
   "execution_count": 278,
   "id": "aaef4903",
   "metadata": {},
   "outputs": [
    {
     "data": {
      "text/plain": [
       "True"
      ]
     },
     "execution_count": 278,
     "metadata": {},
     "output_type": "execute_result"
    }
   ],
   "source": [
    "str4 = '⅖⁵Ⅱ'\n",
    "# len(str4)\n",
    "# str4.isdecimal() # if all characters are from 0123456789\n",
    "# str4.isdigit() # if all characters are digits then returns True(⁵,3,0),\n",
    "# else False('⅖⁵')\n",
    "str4.isnumeric() # if all characters are numbers or not"
   ]
  },
  {
   "cell_type": "code",
   "execution_count": 281,
   "id": "d28f39e0",
   "metadata": {},
   "outputs": [
    {
     "data": {
      "text/plain": [
       "False"
      ]
     },
     "execution_count": 281,
     "metadata": {},
     "output_type": "execute_result"
    }
   ],
   "source": [
    "str4 = \"36.89\"\n",
    "str4.isnumeric()"
   ]
  },
  {
   "cell_type": "code",
   "execution_count": null,
   "id": "f10fa9e9",
   "metadata": {},
   "outputs": [],
   "source": [
    "i\n",
    "ii\n",
    "iii\n",
    "iv\n",
    "v"
   ]
  },
  {
   "cell_type": "code",
   "execution_count": null,
   "id": "b409a9bd",
   "metadata": {},
   "outputs": [],
   "source": [
    "I\n",
    "II Ⅱ || \n",
    "III"
   ]
  },
  {
   "cell_type": "code",
   "execution_count": 250,
   "id": "ce7ae0eb",
   "metadata": {},
   "outputs": [
    {
     "data": {
      "text/plain": [
       "2"
      ]
     },
     "execution_count": 250,
     "metadata": {},
     "output_type": "execute_result"
    }
   ],
   "source": [
    "len('II')"
   ]
  }
 ],
 "metadata": {
  "kernelspec": {
   "display_name": "Python 3 (ipykernel)",
   "language": "python",
   "name": "python3"
  },
  "language_info": {
   "codemirror_mode": {
    "name": "ipython",
    "version": 3
   },
   "file_extension": ".py",
   "mimetype": "text/x-python",
   "name": "python",
   "nbconvert_exporter": "python",
   "pygments_lexer": "ipython3",
   "version": "3.10.9"
  }
 },
 "nbformat": 4,
 "nbformat_minor": 5
}
